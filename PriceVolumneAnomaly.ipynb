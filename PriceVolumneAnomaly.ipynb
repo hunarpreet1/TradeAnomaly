{
  "nbformat": 4,
  "nbformat_minor": 0,
  "metadata": {
    "colab": {
      "provenance": [],
      "cell_execution_strategy": "setup",
      "mount_file_id": "1tOUndz2bzAzZpjKFJB-5fNcUOKzC_I28",
      "authorship_tag": "ABX9TyOXXwWkgufxtoUJzX7b85ky",
      "include_colab_link": true
    },
    "kernelspec": {
      "name": "python3",
      "display_name": "Python 3"
    },
    "language_info": {
      "name": "python"
    }
  },
  "cells": [
    {
      "cell_type": "markdown",
      "metadata": {
        "id": "view-in-github",
        "colab_type": "text"
      },
      "source": [
        "<a href=\"https://colab.research.google.com/github/hunarpreet1/TradeAnomaly/blob/main/PriceVolumneAnomaly.ipynb\" target=\"_parent\"><img src=\"https://colab.research.google.com/assets/colab-badge.svg\" alt=\"Open In Colab\"/></a>"
      ]
    },
    {
      "cell_type": "code",
      "execution_count": null,
      "metadata": {
        "id": "e9eX3VQ3WRmK"
      },
      "outputs": [],
      "source": [
        "# Mount Google Drive\n",
        "from google.colab import drive\n",
        "drive.mount('/content/drive')"
      ]
    },
    {
      "cell_type": "code",
      "source": [
        "!pip install ta\n",
        "import ta"
      ],
      "metadata": {
        "colab": {
          "base_uri": "https://localhost:8080/"
        },
        "id": "3nQSQTbfXDpF",
        "outputId": "c583ec2c-49f5-4d82-c016-adebcbce9eed"
      },
      "execution_count": 56,
      "outputs": [
        {
          "output_type": "stream",
          "name": "stdout",
          "text": [
            "Requirement already satisfied: ta in /usr/local/lib/python3.11/dist-packages (0.11.0)\n",
            "Requirement already satisfied: numpy in /usr/local/lib/python3.11/dist-packages (from ta) (2.0.2)\n",
            "Requirement already satisfied: pandas in /usr/local/lib/python3.11/dist-packages (from ta) (2.2.2)\n",
            "Requirement already satisfied: python-dateutil>=2.8.2 in /usr/local/lib/python3.11/dist-packages (from pandas->ta) (2.8.2)\n",
            "Requirement already satisfied: pytz>=2020.1 in /usr/local/lib/python3.11/dist-packages (from pandas->ta) (2025.2)\n",
            "Requirement already satisfied: tzdata>=2022.7 in /usr/local/lib/python3.11/dist-packages (from pandas->ta) (2025.2)\n",
            "Requirement already satisfied: six>=1.5 in /usr/local/lib/python3.11/dist-packages (from python-dateutil>=2.8.2->pandas->ta) (1.17.0)\n"
          ]
        }
      ]
    },
    {
      "cell_type": "code",
      "source": [
        "import os\n",
        "import pandas as pd\n",
        "import matplotlib.pyplot as plt\n",
        "import matplotlib.dates as mdates\n",
        "from datetime import date\n",
        "\n",
        "folder_path = '/content/drive/My Drive/PriceData'"
      ],
      "metadata": {
        "id": "sz9dKgm55EDo"
      },
      "execution_count": 57,
      "outputs": []
    },
    {
      "cell_type": "code",
      "source": [
        "priceData = pd.read_csv(folder_path + '/' + 'pricedata.csv')\n",
        "universe = pd.read_csv(folder_path + '/' + 'nse200universe.csv')\n",
        "nifty50 = pd.read_csv(folder_path + '/' + 'NiftyTRI_Index.csv')\n",
        "nifty200 = pd.read_csv(folder_path + '/' + 'NSE200TRI_Index.csv')"
      ],
      "metadata": {
        "id": "J9ipbasaYt51"
      },
      "execution_count": 77,
      "outputs": []
    },
    {
      "cell_type": "code",
      "source": [
        "universe.dropna()"
      ],
      "metadata": {
        "id": "9rxoKRlfxXJ1"
      },
      "execution_count": null,
      "outputs": []
    },
    {
      "cell_type": "code",
      "source": [
        "# around 3% data has volume missing\n",
        "# around 0.1% data has price missing\n",
        "priceData.set_index('date', inplace=True)\n",
        "nifty50.set_index('date', inplace=True)\n",
        "nifty200.set_index('date', inplace=True)\n",
        "\n",
        "priceData.index = pd.to_datetime(priceData.index)\n",
        "nifty50.index = pd.to_datetime(nifty50.index)\n",
        "nifty200.index = pd.to_datetime(nifty200.index)\n",
        "\n",
        "priceData.dropna(inplace=True) # Think about Nans later.....\n",
        "nifty50.fillna(method=\"ffill\", inplace=True)\n",
        "nifty50.fillna(method=\"bfill\", inplace=True)\n",
        "\n",
        "nifty200.fillna(method=\"ffill\", inplace=True)\n",
        "nifty200.fillna(method=\"bfill\", inplace=True) # can fill same as PX_LAST ????"
      ],
      "metadata": {
        "colab": {
          "base_uri": "https://localhost:8080/"
        },
        "id": "BNGvwu5HS0ih",
        "outputId": "aacdab60-b892-4bef-953b-9d4218d0ef8e"
      },
      "execution_count": 78,
      "outputs": [
        {
          "output_type": "stream",
          "name": "stderr",
          "text": [
            "<ipython-input-78-d6cb5e96baa2>:12: FutureWarning: DataFrame.fillna with 'method' is deprecated and will raise in a future version. Use obj.ffill() or obj.bfill() instead.\n",
            "  nifty50.fillna(method=\"ffill\", inplace=True)\n",
            "<ipython-input-78-d6cb5e96baa2>:13: FutureWarning: DataFrame.fillna with 'method' is deprecated and will raise in a future version. Use obj.ffill() or obj.bfill() instead.\n",
            "  nifty50.fillna(method=\"bfill\", inplace=True)\n",
            "<ipython-input-78-d6cb5e96baa2>:15: FutureWarning: DataFrame.fillna with 'method' is deprecated and will raise in a future version. Use obj.ffill() or obj.bfill() instead.\n",
            "  nifty200.fillna(method=\"ffill\", inplace=True)\n",
            "<ipython-input-78-d6cb5e96baa2>:16: FutureWarning: DataFrame.fillna with 'method' is deprecated and will raise in a future version. Use obj.ffill() or obj.bfill() instead.\n",
            "  nifty200.fillna(method=\"bfill\", inplace=True)\n"
          ]
        }
      ]
    },
    {
      "cell_type": "code",
      "source": [
        "nifty200['PX_HIGH'].plot() # Many missing non close values"
      ],
      "metadata": {
        "colab": {
          "base_uri": "https://localhost:8080/",
          "height": 440
        },
        "id": "2TkFDulxGiAA",
        "outputId": "b46f2fa3-cb2f-4be6-f42e-005f872ed815"
      },
      "execution_count": 80,
      "outputs": [
        {
          "output_type": "execute_result",
          "data": {
            "text/plain": [
              "<Axes: xlabel='date'>"
            ]
          },
          "metadata": {},
          "execution_count": 80
        },
        {
          "output_type": "display_data",
          "data": {
            "text/plain": [
              "<Figure size 640x480 with 1 Axes>"
            ],
            "image/png": "[encoded data removed]"
          },
          "metadata": {}
        }
      ]
    },
    {
      "cell_type": "code",
      "source": [
        "priceData[\"totalVolume\"] = priceData.groupby(level=0)[\"PX_VOLUME\"].transform(\"sum\")\n",
        "priceData[\"maxStockVolume\"] = priceData.groupby(level=0)[\"PX_VOLUME\"].transform(\"max\")\n",
        "priceData[\"volume_ratio\"] = priceData[\"PX_VOLUME\"] / priceData[\"totalVolume\"]\n",
        "priceData[\"volume_max_ratio\"] = priceData[\"PX_VOLUME\"] / priceData[\"maxStockVolume\"]\n",
        "\n",
        "priceData['returnsOpen'] = priceData.groupby('security')['PX_OPEN'].pct_change()\n",
        "priceData['returnsClose'] = priceData.groupby('security')['PX_LAST'].pct_change()\n",
        "priceData['returnsHigh'] = priceData.groupby('security')['PX_HIGH'].pct_change()\n",
        "priceData['returnsLow'] = priceData.groupby('security')['PX_LOW'].pct_change()\n",
        "priceData.dropna(inplace=True) # Think about Nans later....."
      ],
      "metadata": {
        "id": "M9ZJDhOCSzn1"
      },
      "execution_count": 99,
      "outputs": []
    },
    {
      "cell_type": "markdown",
      "source": [
        "#Extract candle stick/technical features\n",
        "\n",
        "> Add blockquote\n",
        "\n"
      ],
      "metadata": {
        "id": "Da5OjUQns6f-"
      }
    },
    {
      "cell_type": "code",
      "source": [
        "import pandas as pd\n",
        "import numpy as np\n",
        "import ta\n",
        "\n",
        "import pandas as pd\n",
        "\n",
        "def calculate_mfi(df, period=14, high_col=\"PX_HIGH\", low_col=\"PX_LOW\", close_col=\"PX_LAST\", volume_col=\"PX_VOLUME\", epsilon=1e-6):\n",
        "    \"\"\"\n",
        "    Calculate Money Flow Index (MFI).\n",
        "\n",
        "    Parameters:\n",
        "    df (pd.DataFrame): DataFrame with OHLCV data.\n",
        "    period (int): Lookback period for MFI (default=14).\n",
        "    high_col, low_col, close_col, volume_col (str): Column names for high, low, close, and volume.\n",
        "\n",
        "    Returns:\n",
        "    pd.Series: Money Flow Index values.\n",
        "    \"\"\"\n",
        "    # Typical Price\n",
        "    df[\"TP\"] = (df[high_col] + df[low_col] + df[close_col]) / 3\n",
        "\n",
        "    # Money Flow\n",
        "    df[\"MF\"] = df[\"TP\"] * df[volume_col]\n",
        "\n",
        "    # Positive & Negative Money Flow\n",
        "    df[\"Positive MF\"] = df[\"MF\"].where(df[\"TP\"].diff() > 0, 0)\n",
        "    df[\"Negative MF\"] = df[\"MF\"].where(df[\"TP\"].diff() < 0, 0)\n",
        "\n",
        "    # Money Flow Ratio\n",
        "    df[\"MFR\"] = df[\"Positive MF\"].rolling(window=period).sum() / (df[\"Negative MF\"].rolling(window=period).sum() + epsilon)\n",
        "\n",
        "\n",
        "    # Money Flow Index\n",
        "    df[\"MFI\"] = 100 - (100 / (1 + df[\"MFR\"]))\n",
        "\n",
        "    return df[\"MFI\"]\n",
        "\n",
        "def extract_features(df):\n",
        "    \"\"\"\n",
        "    Extracts technical features from OHLCV (PX_OPEN, PX_HIGH, PX_LOW, PX_LAST, PX_VOLUME) data.\n",
        "\n",
        "    Parameters:\n",
        "    df (pd.DataFrame): DataFrame with columns ['Date', 'security', 'PX_OPEN', 'PX_HIGH', 'PX_LOW', 'PX_LAST', 'PX_VOLUME'].\n",
        "\n",
        "    Returns:\n",
        "    pd.DataFrame: DataFrame with added feature columns.\n",
        "    \"\"\"\n",
        "    df = df.copy()\n",
        "\n",
        "    # === Basic Price Features ===\n",
        "    df[\"Daily_Return\"] = df.groupby(\"security\")[\"PX_LAST\"].pct_change()\n",
        "    #df[\"Log_Return\"] = df.groupby(\"security\")[\"PX_LAST\"].apply(lambda x: np.log(x / x.shift(1)))\n",
        "    df[\"Price_Spread\"] = df[\"PX_HIGH\"] - df[\"PX_LOW\"]\n",
        "    df[\"Body_Size\"] = abs(df[\"PX_LAST\"] - df[\"PX_OPEN\"])\n",
        "    df[\"Upper_Shadow\"] = df[\"PX_HIGH\"] - df[[\"PX_OPEN\", \"PX_LAST\"]].max(axis=1)\n",
        "    df[\"Lower_Shadow\"] = df[[\"PX_OPEN\", \"PX_LAST\"]].min(axis=1) - df[\"PX_LOW\"]\n",
        "    df[\"Close_Open_Gap\"] = (df[\"PX_OPEN\"] - df.groupby(\"security\")[\"PX_LAST\"].shift(1)) / df.groupby(\"security\")[\"PX_LAST\"].shift(1)\n",
        "    df[\"Volume_Change\"] = df.groupby(\"security\")[\"PX_VOLUME\"].pct_change()\n",
        "\n",
        "    # === Trend Indicators ===\n",
        "    df[\"SMA_5\"] = df.groupby(\"security\")[\"PX_LAST\"].transform(lambda x: x.rolling(5).mean())\n",
        "    df[\"SMA_20\"] = df.groupby(\"security\")[\"PX_LAST\"].transform(lambda x: x.rolling(20).mean())\n",
        "    df[\"EMA_12\"] = ta.trend.EMAIndicator(df[\"PX_LAST\"], window=12).ema_indicator()\n",
        "    df[\"EMA_26\"] = ta.trend.EMAIndicator(df[\"PX_LAST\"], window=26).ema_indicator()\n",
        "    df[\"MACD\"] = ta.trend.MACD(df[\"PX_LAST\"]).macd()\n",
        "    df[\"MACD_Signal\"] = ta.trend.MACD(df[\"PX_LAST\"]).macd_signal()\n",
        "    df[\"RSI\"] = ta.momentum.RSIIndicator(df[\"PX_LAST\"], window=14).rsi()\n",
        "\n",
        "    # === Volatility Indicators ===\n",
        "    df[\"ATR\"] = ta.volatility.AverageTrueRange(df[\"PX_HIGH\"], df[\"PX_LOW\"], df[\"PX_LAST\"], window=14).average_true_range()\n",
        "    bollinger = ta.volatility.BollingerBands(df[\"PX_LAST\"], window=20, window_dev=2)\n",
        "    df[\"Bollinger_Upper\"] = bollinger.bollinger_hband()\n",
        "    df[\"Bollinger_Lower\"] = bollinger.bollinger_lband()\n",
        "    #df[\"Historical_Volatility\"] = df.groupby(\"security\")[\"Log_Return\"].transform(lambda x: x.rolling(20).std())\n",
        "\n",
        "    # === Momentum Indicators ===\n",
        "    df[\"Momentum_5\"] = ta.momentum.ROCIndicator(df[\"PX_LAST\"], window=5).roc()\n",
        "    df[\"Williams_%R\"] = ta.momentum.WilliamsRIndicator(df[\"PX_HIGH\"], df[\"PX_LOW\"], df[\"PX_LAST\"], lbp=14).williams_r()\n",
        "\n",
        "    # Money Flow Index\n",
        "    df[\"MFI\"] = calculate_mfi(df)\n",
        "\n",
        "    return df\n",
        "\n",
        "# === Apply Feature Extraction to Dataset ===\n",
        "priceData = extract_features(priceData)  # df contains multiple securities\n",
        "priceData.dropna(inplace=True)"
      ],
      "metadata": {
        "colab": {
          "base_uri": "https://localhost:8080/",
          "height": 180
        },
        "id": "Aln4IykDtDJJ",
        "outputId": "035ce96d-3f9d-4760-da24-535c8efed0b7"
      },
      "execution_count": 88,
      "outputs": [
        {
          "output_type": "error",
          "ename": "NameError",
          "evalue": "name 'df_features' is not defined",
          "traceback": [
            "\u001b[0;31m---------------------------------------------------------------------------\u001b[0m",
            "\u001b[0;31mNameError\u001b[0m                                 Traceback (most recent call last)",
            "\u001b[0;32m<ipython-input-88-979dc9b6764a>\u001b[0m in \u001b[0;36m<cell line: 0>\u001b[0;34m()\u001b[0m\n\u001b[1;32m     85\u001b[0m \u001b[0;31m# === Apply Feature Extraction to Dataset ===\u001b[0m\u001b[0;34m\u001b[0m\u001b[0;34m\u001b[0m\u001b[0m\n\u001b[1;32m     86\u001b[0m \u001b[0mpriceData\u001b[0m \u001b[0;34m=\u001b[0m \u001b[0mextract_features\u001b[0m\u001b[0;34m(\u001b[0m\u001b[0mpriceData\u001b[0m\u001b[0;34m)\u001b[0m  \u001b[0;31m# df contains multiple securities\u001b[0m\u001b[0;34m\u001b[0m\u001b[0;34m\u001b[0m\u001b[0m\n\u001b[0;32m---> 87\u001b[0;31m \u001b[0mprint\u001b[0m\u001b[0;34m(\u001b[0m\u001b[0mdf_features\u001b[0m\u001b[0;34m.\u001b[0m\u001b[0mhead\u001b[0m\u001b[0;34m(\u001b[0m\u001b[0;34m)\u001b[0m\u001b[0;34m)\u001b[0m\u001b[0;34m\u001b[0m\u001b[0;34m\u001b[0m\u001b[0m\n\u001b[0m",
            "\u001b[0;31mNameError\u001b[0m: name 'df_features' is not defined"
          ]
        }
      ]
    },
    {
      "cell_type": "code",
      "source": [
        "def getStockPriceVolumeData(ticker, start=None, end=None):\n",
        "  stock_data = priceData[priceData['security'] == ticker + IN_EQUITY_PREFIX]\n",
        "  if start is not None:\n",
        "    stock_data = stock_data.loc[start:]\n",
        "  if end is not None:\n",
        "    stock_data = stock_data.loc[:end]\n",
        "  return stock_data\n",
        "\n",
        "def plotPrice(ticker, priceType='PX_OPEN', start=None, end=None, dotDates=None, lineDates=None, saveFig=True, saveSuffix=''):\n",
        "  df = getStockPriceVolumeData(ticker, start=start, end=end)\n",
        "  plt.close(\"all\")  # Close any previous plots\n",
        "  fig, ax = plt.subplots(figsize=(10, 5))  # Create a new figure explicitly\n",
        "\n",
        "  ax.plot(df.index, df[priceType], label=priceType, color='black')\n",
        "\n",
        "  # Formatting\n",
        "  ax.set_xlabel(\"Date\")\n",
        "  ax.set_ylabel(priceType)\n",
        "  ax.set_title(ticker)\n",
        "  ax.legend()\n",
        "  plt.xticks(rotation=45)\n",
        "  plt.grid()\n",
        "  ax.xaxis.set_major_locator(mdates.AutoDateLocator())  # Automatically adjusts date labels\n",
        "  fig.autofmt_xdate()  # Rotates dates for better readability\n",
        "  start = pd.Timestamp(start) if start is not None else df.index[0]\n",
        "  end = pd.Timestamp(end) if end is not None else df.index[-1]\n",
        "\n",
        "  if dotDates is not None:\n",
        "    dotDates = [date for date in dotDates if date >= start and date <= end]\n",
        "    plt.scatter(dotDates, df.loc[dotDates, priceType], color='red', zorder=3, label=\"Dots\")\n",
        "\n",
        "  if lineDates is not None:\n",
        "    lineDates = [pd.Timestamp(date) for date in lineDates if start <= pd.Timestamp(date) <= end]\n",
        "    print(lineDates)\n",
        "    for date in lineDates:\n",
        "        plt.axvline(x=date, color='blue', linestyle='--', linewidth=1, alpha=0.7, label=\"Event\" if date == lineDates[0] else \"\")\n",
        "\n",
        "  if saveFig:\n",
        "    plt.savefig(ticker + '_' + saveSuffix + '.png', bbox_inches=\"tight\")\n",
        "    #print(f\"Plot saved to {save_path}\")\n",
        "\n",
        "  plt.show()"
      ],
      "metadata": {
        "id": "2vCQzxiWa-eX"
      },
      "execution_count": 61,
      "outputs": []
    },
    {
      "cell_type": "markdown",
      "source": [
        "#Remove Index component from stock price"
      ],
      "metadata": {
        "id": "Yb436Pa9tEO4"
      }
    },
    {
      "cell_type": "code",
      "source": [
        "IN_EQUITY_PREFIX = ' IN Equity'\n",
        "CURR_UNIVERSE = [ ticker.split(' ')[0] for ticker in universe['2022-12-30'] if pd.notna(ticker) ]"
      ],
      "metadata": {
        "id": "0-cWufUx6ouO"
      },
      "execution_count": 62,
      "outputs": []
    },
    {
      "cell_type": "code",
      "source": [
        "import pandas as pd\n",
        "import numpy as np\n",
        "\n",
        "def extend_index_composition(index_composition_df):\n",
        "    \"\"\"\n",
        "    Extend index composition backward in time before the first available date.\n",
        "    Uses the earliest available composition for all prior dates.\n",
        "\n",
        "    Parameters:\n",
        "    index_composition_df (pd.DataFrame): Index components with dates as columns and tickers as values.\n",
        "\n",
        "    Returns:\n",
        "    pd.DataFrame: Extended index composition.\n",
        "    \"\"\"\n",
        "    first_date = index_composition_df.columns.min()  # Find earliest available date\n",
        "    all_dates = pd.date_range(start=price_df.index.min(), end=index_composition_df.columns.max(), freq=\"B\")  # All business days\n",
        "\n",
        "    # Convert composition to DataFrame with dates as index\n",
        "    extended_composition = index_composition_df.T\n",
        "    extended_composition = extended_composition.reindex(all_dates, method=\"ffill\")  # Fill backward before 2012\n",
        "\n",
        "    return extended_composition.T  # Convert back to original format\n",
        "\n",
        "def compute_equal_weighted_index_returns(price_df, index_composition_df):\n",
        "    \"\"\"\n",
        "    Compute equal-weighted index returns using daily stock prices and index composition.\n",
        "\n",
        "    Parameters:\n",
        "    price_df (pd.DataFrame): OHLCV data with date index and tickers as columns (PX_LAST values).\n",
        "    index_composition_df (pd.DataFrame): Index components with dates as columns and tickers as values.\n",
        "\n",
        "    Returns:\n",
        "    pd.Series: Equal-weighted index returns over time.\n",
        "    \"\"\"\n",
        "    # Extend composition before 2012\n",
        "    index_composition_df = extend_index_composition(index_composition_df) # check with Anay on composition data before 2012....\n",
        "\n",
        "    returns = price_df.pct_change()  # Compute daily simple returns\n",
        "    index_returns = {}\n",
        "\n",
        "    for date in index_composition_df.columns:  # Loop through each date\n",
        "        if date not in returns.index:\n",
        "            continue  # Skip if no return data\n",
        "\n",
        "        tickers = index_composition_df[date].dropna().values  # Get tickers for that day\n",
        "        valid_returns = returns.loc[date, tickers].dropna()  # Get valid returns\n",
        "\n",
        "        if len(valid_returns) > 0:\n",
        "            index_returns[date] = valid_returns.mean()  # Compute equal-weighted return\n",
        "\n",
        "    return pd.Series(index_returns, name=\"Equal_Weighted_Return\")\n",
        "\n",
        "# Example Usage\n",
        "index_composition_df = extend_index_composition(index_composition_df)  # Extend composition first\n",
        "equal_weighted_index_returns = compute_equal_weighted_index_returns(price_df, index_composition_df)\n"
      ],
      "metadata": {
        "colab": {
          "base_uri": "https://localhost:8080/",
          "height": 198
        },
        "id": "5KZa4Gc9rdyz",
        "outputId": "15677957-3855-47b5-bf5b-bfb6d339a437"
      },
      "execution_count": 63,
      "outputs": [
        {
          "output_type": "error",
          "ename": "NameError",
          "evalue": "name 'index_composition_df' is not defined",
          "traceback": [
            "\u001b[0;31m---------------------------------------------------------------------------\u001b[0m",
            "\u001b[0;31mNameError\u001b[0m                                 Traceback (most recent call last)",
            "\u001b[0;32m<ipython-input-63-003b3ea09aa9>\u001b[0m in \u001b[0;36m<cell line: 0>\u001b[0;34m()\u001b[0m\n\u001b[1;32m     52\u001b[0m \u001b[0;34m\u001b[0m\u001b[0m\n\u001b[1;32m     53\u001b[0m \u001b[0;31m# Example Usage\u001b[0m\u001b[0;34m\u001b[0m\u001b[0;34m\u001b[0m\u001b[0m\n\u001b[0;32m---> 54\u001b[0;31m \u001b[0mindex_composition_df\u001b[0m \u001b[0;34m=\u001b[0m \u001b[0mextend_index_composition\u001b[0m\u001b[0;34m(\u001b[0m\u001b[0mindex_composition_df\u001b[0m\u001b[0;34m)\u001b[0m  \u001b[0;31m# Extend composition first\u001b[0m\u001b[0;34m\u001b[0m\u001b[0;34m\u001b[0m\u001b[0m\n\u001b[0m\u001b[1;32m     55\u001b[0m \u001b[0mequal_weighted_index_returns\u001b[0m \u001b[0;34m=\u001b[0m \u001b[0mcompute_equal_weighted_index_returns\u001b[0m\u001b[0;34m(\u001b[0m\u001b[0mprice_df\u001b[0m\u001b[0;34m,\u001b[0m \u001b[0mindex_composition_df\u001b[0m\u001b[0;34m)\u001b[0m\u001b[0;34m\u001b[0m\u001b[0;34m\u001b[0m\u001b[0m\n",
            "\u001b[0;31mNameError\u001b[0m: name 'index_composition_df' is not defined"
          ]
        }
      ]
    },
    {
      "cell_type": "code",
      "source": [
        "import pandas as pd\n",
        "import statsmodels.api as sm\n",
        "import matplotlib.pyplot as plt\n",
        "import seaborn as sns\n",
        "import numpy as np\n",
        "from scipy.stats import probplot\n",
        "import logging\n",
        "from datetime import datetime\n",
        "\n",
        "def compute_log_returns(df):\n",
        "    \"\"\" Compute log returns for a given price series. \"\"\"\n",
        "    return np.log(df / df.shift(1))\n",
        "\n",
        "def compute_simple_returns(df):\n",
        "    \"\"\" Compute simple returns for a given price series. \"\"\"\n",
        "    return df.pct_change()\n",
        "\n",
        "def setup_logger(log_file='idiosyncratic_returns.log'):\n",
        "    \"\"\"Configure logging system\"\"\"\n",
        "    logging.basicConfig(\n",
        "        level=logging.INFO,\n",
        "        format='%(asctime)s - %(levelname)s - %(message)s',\n",
        "        handlers=[\n",
        "            logging.FileHandler(log_file),\n",
        "            logging.StreamHandler()\n",
        "        ]\n",
        "    )\n",
        "    return logging.getLogger()\n",
        "\n",
        "def compute_idiosyncratic_returns(priceData, indexData, price_types=['PX_LAST', 'PX_OPEN', 'PX_HIGH', 'PX_LOW'],\n",
        "                                universe=None, make_plots=False, merge_to_original=True,\n",
        "                                log_stats=True, log_file='idiosyncratic_returns.log'):\n",
        "    \"\"\"\n",
        "    Compute idiosyncratic returns with enhanced logging functionality.\n",
        "\n",
        "    Parameters:\n",
        "    priceData (pd.DataFrame): Original price data indexed by date with columns ['security', ...]\n",
        "    indexData (pd.DataFrame): Index prices with matching price types, indexed by date\n",
        "    price_types (list): Price columns to process\n",
        "    universe (list): Securities to process (None=all available)\n",
        "    make_plots (bool): Generate diagnostic plots\n",
        "    merge_to_original (bool): Whether to merge results back to priceData\n",
        "    log_stats (bool): Whether to log regression statistics\n",
        "    log_file (str): Path to log file\n",
        "\n",
        "    Returns:\n",
        "    pd.DataFrame or dict: If merge_to_original=True returns enhanced DataFrame,\n",
        "                         else returns dictionary of idiosyncratic returns\n",
        "    \"\"\"\n",
        "    # Initialize logger\n",
        "    logger = setup_logger(log_file)\n",
        "    logger.info(\"Starting idiosyncratic returns computation\")\n",
        "    logger.info(f\"Processing {len(price_types)} price types: {', '.join(price_types)}\")\n",
        "\n",
        "    # Set default universe if not provided\n",
        "    if universe is None:\n",
        "        universe = priceData['security'].unique()\n",
        "        logger.info(f\"Using default universe of {len(universe)} securities\")\n",
        "    else:\n",
        "        logger.info(f\"Processing custom universe of {len(universe)} securities\")\n",
        "\n",
        "    # Initialize storage\n",
        "    idio_dict = {pt: {} for pt in price_types}\n",
        "    results = priceData.copy() if merge_to_original else None\n",
        "    stats_records = []\n",
        "\n",
        "    # Verify index price types\n",
        "    missing_types = [pt for pt in price_types if pt not in indexData.columns]\n",
        "    if missing_types:\n",
        "        error_msg = f\"Index data missing price types: {missing_types}\"\n",
        "        logger.error(error_msg)\n",
        "        raise ValueError(error_msg)\n",
        "    else:\n",
        "        logger.info(\"All required price types present in index data\")\n",
        "\n",
        "    # Precompute index returns\n",
        "    index_returns = {pt: compute_log_returns(indexData[pt]).dropna()\n",
        "                    for pt in price_types}\n",
        "    logger.info(\"Precomputed index returns for all price types\")\n",
        "\n",
        "    processed = 0\n",
        "    for security in universe:\n",
        "        try:\n",
        "            sec_data = getStockPriceVolumeData(security)\n",
        "            if sec_data is None or sec_data.empty:\n",
        "                logger.warning(f\"No data available for security: {security}\")\n",
        "                continue\n",
        "\n",
        "            for price_type in price_types:\n",
        "                if price_type not in sec_data.columns:\n",
        "                    logger.debug(f\"Price type {price_type} not found for {security}\")\n",
        "                    continue\n",
        "\n",
        "                # Calculate returns and align data\n",
        "                stock_returns = compute_log_returns(sec_data[price_type]).dropna()\n",
        "\n",
        "                # Store log returns in results DataFrame\n",
        "                if merge_to_original:\n",
        "                  valid_indices = stock_returns.index.intersection(results.index)\n",
        "                  log_return_col = f\"LOGRET_{price_type}\"\n",
        "                  mask = (results['security'] == security + IN_EQUITY_PREFIX) & (results.index.isin(valid_indices))\n",
        "                  results.loc[mask, log_return_col] = stock_returns.loc[valid_indices].values\n",
        "\n",
        "                aligned_data = pd.concat([stock_returns, index_returns[price_type]],\n",
        "                                       axis=1, join=\"inner\").dropna()\n",
        "                aligned_data.columns = ['stock_return', 'index_return']\n",
        "\n",
        "                if len(aligned_data) < 30:\n",
        "                    logger.warning(f\"Insufficient data points ({len(aligned_data)}) for {security} {price_type}\")\n",
        "                    continue\n",
        "\n",
        "                # Run regression\n",
        "                X = sm.add_constant(aligned_data['index_return'])\n",
        "                y = aligned_data['stock_return']\n",
        "                model = sm.OLS(y, X).fit()\n",
        "                residuals = y - model.predict(X)\n",
        "                print(f\"{security}_{price_type} Regression Finished | R² = {model.rsquared:.4f}\")\n",
        "\n",
        "                # Store results\n",
        "                idio_dict[price_type][security] = residuals\n",
        "                processed += 1\n",
        "\n",
        "                # Log regression statistics\n",
        "                if log_stats:\n",
        "                    stats_records.append({\n",
        "                        'security': security,\n",
        "                        'price_type': price_type,\n",
        "                        'alpha': model.params[0],\n",
        "                        'beta': model.params[1],\n",
        "                        'r_squared': model.rsquared,\n",
        "                        'observations': len(aligned_data)\n",
        "                    })\n",
        "\n",
        "                # Merge if requested\n",
        "                if merge_to_original:\n",
        "                    valid_indices = residuals.index.intersection(results.index)\n",
        "                    col_name = f\"IDIO_{price_type}\"\n",
        "                    mask = (results['security'] == security + IN_EQUITY_PREFIX) & (results.index.isin(valid_indices))\n",
        "                    results.loc[mask, col_name] = residuals.loc[valid_indices].values\n",
        "\n",
        "                # Generate plots if requested\n",
        "                if make_plots:\n",
        "                    generate_regression_plots(aligned_data, model, residuals, security, price_type)\n",
        "\n",
        "        except Exception as e:\n",
        "            logger.error(f\"Error processing {security}: {str(e)}\", exc_info=True)\n",
        "            continue\n",
        "\n",
        "    # Final logging summary\n",
        "    logger.info(f\"Completed processing. Successfully processed {processed} security/price-type combinations\")\n",
        "\n",
        "    return results if merge_to_original else idio_dict\n",
        "\n",
        "def generate_regression_plots(aligned_data, model, residuals, security, price_type):\n",
        "    \"\"\"Helper function to generate diagnostic plots.\"\"\"\n",
        "    plt.figure(figsize=(15, 12))\n",
        "    plt.suptitle(f\"{security} - {price_type} Regression Diagnostics\", y=1.02)\n",
        "\n",
        "    plt.subplot(2, 2, 1)\n",
        "    sns.regplot(x='index_return', y='stock_return', data=aligned_data,\n",
        "                scatter_kws={\"alpha\": 0.5}, line_kws={\"color\": \"red\"}, ci=None)\n",
        "    plt.xlabel(f\"Index {price_type} Returns\")\n",
        "    plt.ylabel(f\"Stock {price_type} Returns\")\n",
        "    plt.grid(True)\n",
        "\n",
        "    plt.subplot(2, 2, 2)\n",
        "    sns.histplot(residuals, bins=50, kde=True)\n",
        "    plt.axvline(0, color=\"red\", linestyle=\"--\")\n",
        "    plt.grid(True)\n",
        "\n",
        "    plt.subplot(2, 2, 3)\n",
        "    probplot(residuals, dist=\"norm\", plot=plt)\n",
        "    plt.grid(True)\n",
        "\n",
        "    plt.subplot(2, 2, 4)\n",
        "    plt.scatter(model.predict(), residuals, alpha=0.5)\n",
        "    plt.axhline(0, color=\"red\", linestyle=\"--\")\n",
        "    plt.grid(True)\n",
        "\n",
        "    plt.tight_layout()\n",
        "    plt.show()\n",
        "\n",
        "\n",
        "priceData = compute_idiosyncratic_returns(priceData, nifty200, universe=CURR_UNIVERSE, merge_to_original=True)"
      ],
      "metadata": {
        "colab": {
          "base_uri": "https://localhost:8080/"
        },
        "id": "2kBBoty21aty",
        "outputId": "fec2dbb7-7ffc-46ed-dccd-d901f30dc046"
      },
      "execution_count": 81,
      "outputs": [
        {
          "output_type": "stream",
          "name": "stdout",
          "text": [
            "ABB_PX_LAST Regression Finished | R² = 0.2634\n",
            "ABB_PX_OPEN Regression Finished | R² = 0.0163\n",
            "ABB_PX_HIGH Regression Finished | R² = 0.0710\n",
            "ABB_PX_LOW Regression Finished | R² = 0.1368\n"
          ]
        },
        {
          "output_type": "stream",
          "name": "stderr",
          "text": [
            "<ipython-input-81-100154a856fb>:128: FutureWarning: Series.__getitem__ treating keys as positions is deprecated. In a future version, integer keys will always be treated as labels (consistent with DataFrame behavior). To access a value by position, use `ser.iloc[pos]`\n",
            "  'alpha': model.params[0],\n",
            "<ipython-input-81-100154a856fb>:129: FutureWarning: Series.__getitem__ treating keys as positions is deprecated. In a future version, integer keys will always be treated as labels (consistent with DataFrame behavior). To access a value by position, use `ser.iloc[pos]`\n",
            "  'beta': model.params[1],\n",
            "<ipython-input-81-100154a856fb>:128: FutureWarning: Series.__getitem__ treating keys as positions is deprecated. In a future version, integer keys will always be treated as labels (consistent with DataFrame behavior). To access a value by position, use `ser.iloc[pos]`\n",
            "  'alpha': model.params[0],\n",
            "<ipython-input-81-100154a856fb>:129: FutureWarning: Series.__getitem__ treating keys as positions is deprecated. In a future version, integer keys will always be treated as labels (consistent with DataFrame behavior). To access a value by position, use `ser.iloc[pos]`\n",
            "  'beta': model.params[1],\n",
            "<ipython-input-81-100154a856fb>:128: FutureWarning: Series.__getitem__ treating keys as positions is deprecated. In a future version, integer keys will always be treated as labels (consistent with DataFrame behavior). To access a value by position, use `ser.iloc[pos]`\n",
            "  'alpha': model.params[0],\n",
            "<ipython-input-81-100154a856fb>:129: FutureWarning: Series.__getitem__ treating keys as positions is deprecated. In a future version, integer keys will always be treated as labels (consistent with DataFrame behavior). To access a value by position, use `ser.iloc[pos]`\n",
            "  'beta': model.params[1],\n",
            "<ipython-input-81-100154a856fb>:128: FutureWarning: Series.__getitem__ treating keys as positions is deprecated. In a future version, integer keys will always be treated as labels (consistent with DataFrame behavior). To access a value by position, use `ser.iloc[pos]`\n",
            "  'alpha': model.params[0],\n",
            "<ipython-input-81-100154a856fb>:129: FutureWarning: Series.__getitem__ treating keys as positions is deprecated. In a future version, integer keys will always be treated as labels (consistent with DataFrame behavior). To access a value by position, use `ser.iloc[pos]`\n",
            "  'beta': model.params[1],\n"
          ]
        },
        {
          "output_type": "stream",
          "name": "stdout",
          "text": [
            "ABCAP_PX_LAST Regression Finished | R² = 0.2923\n",
            "ABCAP_PX_OPEN Regression Finished | R² = 0.0186\n",
            "ABCAP_PX_HIGH Regression Finished | R² = 0.0636\n",
            "ABCAP_PX_LOW Regression Finished | R² = 0.1541\n"
          ]
        },
        {
          "output_type": "stream",
          "name": "stderr",
          "text": [
            "<ipython-input-81-100154a856fb>:128: FutureWarning: Series.__getitem__ treating keys as positions is deprecated. In a future version, integer keys will always be treated as labels (consistent with DataFrame behavior). To access a value by position, use `ser.iloc[pos]`\n",
            "  'alpha': model.params[0],\n",
            "<ipython-input-81-100154a856fb>:129: FutureWarning: Series.__getitem__ treating keys as positions is deprecated. In a future version, integer keys will always be treated as labels (consistent with DataFrame behavior). To access a value by position, use `ser.iloc[pos]`\n",
            "  'beta': model.params[1],\n",
            "<ipython-input-81-100154a856fb>:128: FutureWarning: Series.__getitem__ treating keys as positions is deprecated. In a future version, integer keys will always be treated as labels (consistent with DataFrame behavior). To access a value by position, use `ser.iloc[pos]`\n",
            "  'alpha': model.params[0],\n",
            "<ipython-input-81-100154a856fb>:129: FutureWarning: Series.__getitem__ treating keys as positions is deprecated. In a future version, integer keys will always be treated as labels (consistent with DataFrame behavior). To access a value by position, use `ser.iloc[pos]`\n",
            "  'beta': model.params[1],\n",
            "<ipython-input-81-100154a856fb>:128: FutureWarning: Series.__getitem__ treating keys as positions is deprecated. In a future version, integer keys will always be treated as labels (consistent with DataFrame behavior). To access a value by position, use `ser.iloc[pos]`\n",
            "  'alpha': model.params[0],\n",
            "<ipython-input-81-100154a856fb>:129: FutureWarning: Series.__getitem__ treating keys as positions is deprecated. In a future version, integer keys will always be treated as labels (consistent with DataFrame behavior). To access a value by position, use `ser.iloc[pos]`\n",
            "  'beta': model.params[1],\n",
            "<ipython-input-81-100154a856fb>:128: FutureWarning: Series.__getitem__ treating keys as positions is deprecated. In a future version, integer keys will always be treated as labels (consistent with DataFrame behavior). To access a value by position, use `ser.iloc[pos]`\n",
            "  'alpha': model.params[0],\n",
            "<ipython-input-81-100154a856fb>:129: FutureWarning: Series.__getitem__ treating keys as positions is deprecated. In a future version, integer keys will always be treated as labels (consistent with DataFrame behavior). To access a value by position, use `ser.iloc[pos]`\n",
            "  'beta': model.params[1],\n"
          ]
        },
        {
          "output_type": "stream",
          "name": "stdout",
          "text": [
            "ABFRL_PX_LAST Regression Finished | R² = 0.1603\n",
            "ABFRL_PX_OPEN Regression Finished | R² = 0.0070\n",
            "ABFRL_PX_HIGH Regression Finished | R² = 0.0479\n",
            "ABFRL_PX_LOW Regression Finished | R² = 0.0764\n"
          ]
        },
        {
          "output_type": "stream",
          "name": "stderr",
          "text": [
            "<ipython-input-81-100154a856fb>:128: FutureWarning: Series.__getitem__ treating keys as positions is deprecated. In a future version, integer keys will always be treated as labels (consistent with DataFrame behavior). To access a value by position, use `ser.iloc[pos]`\n",
            "  'alpha': model.params[0],\n",
            "<ipython-input-81-100154a856fb>:129: FutureWarning: Series.__getitem__ treating keys as positions is deprecated. In a future version, integer keys will always be treated as labels (consistent with DataFrame behavior). To access a value by position, use `ser.iloc[pos]`\n",
            "  'beta': model.params[1],\n",
            "<ipython-input-81-100154a856fb>:128: FutureWarning: Series.__getitem__ treating keys as positions is deprecated. In a future version, integer keys will always be treated as labels (consistent with DataFrame behavior). To access a value by position, use `ser.iloc[pos]`\n",
            "  'alpha': model.params[0],\n",
            "<ipython-input-81-100154a856fb>:129: FutureWarning: Series.__getitem__ treating keys as positions is deprecated. In a future version, integer keys will always be treated as labels (consistent with DataFrame behavior). To access a value by position, use `ser.iloc[pos]`\n",
            "  'beta': model.params[1],\n",
            "<ipython-input-81-100154a856fb>:128: FutureWarning: Series.__getitem__ treating keys as positions is deprecated. In a future version, integer keys will always be treated as labels (consistent with DataFrame behavior). To access a value by position, use `ser.iloc[pos]`\n",
            "  'alpha': model.params[0],\n",
            "<ipython-input-81-100154a856fb>:129: FutureWarning: Series.__getitem__ treating keys as positions is deprecated. In a future version, integer keys will always be treated as labels (consistent with DataFrame behavior). To access a value by position, use `ser.iloc[pos]`\n",
            "  'beta': model.params[1],\n",
            "<ipython-input-81-100154a856fb>:128: FutureWarning: Series.__getitem__ treating keys as positions is deprecated. In a future version, integer keys will always be treated as labels (consistent with DataFrame behavior). To access a value by position, use `ser.iloc[pos]`\n",
            "  'alpha': model.params[0],\n",
            "<ipython-input-81-100154a856fb>:129: FutureWarning: Series.__getitem__ treating keys as positions is deprecated. In a future version, integer keys will always be treated as labels (consistent with DataFrame behavior). To access a value by position, use `ser.iloc[pos]`\n",
            "  'beta': model.params[1],\n"
          ]
        },
        {
          "output_type": "stream",
          "name": "stdout",
          "text": [
            "ACC_PX_LAST Regression Finished | R² = 0.3669\n",
            "ACC_PX_OPEN Regression Finished | R² = 0.0252\n",
            "ACC_PX_HIGH Regression Finished | R² = 0.1143\n",
            "ACC_PX_LOW Regression Finished | R² = 0.1718\n"
          ]
        },
        {
          "output_type": "stream",
          "name": "stderr",
          "text": [
            "<ipython-input-81-100154a856fb>:128: FutureWarning: Series.__getitem__ treating keys as positions is deprecated. In a future version, integer keys will always be treated as labels (consistent with DataFrame behavior). To access a value by position, use `ser.iloc[pos]`\n",
            "  'alpha': model.params[0],\n",
            "<ipython-input-81-100154a856fb>:129: FutureWarning: Series.__getitem__ treating keys as positions is deprecated. In a future version, integer keys will always be treated as labels (consistent with DataFrame behavior). To access a value by position, use `ser.iloc[pos]`\n",
            "  'beta': model.params[1],\n",
            "<ipython-input-81-100154a856fb>:128: FutureWarning: Series.__getitem__ treating keys as positions is deprecated. In a future version, integer keys will always be treated as labels (consistent with DataFrame behavior). To access a value by position, use `ser.iloc[pos]`\n",
            "  'alpha': model.params[0],\n",
            "<ipython-input-81-100154a856fb>:129: FutureWarning: Series.__getitem__ treating keys as positions is deprecated. In a future version, integer keys will always be treated as labels (consistent with DataFrame behavior). To access a value by position, use `ser.iloc[pos]`\n",
            "  'beta': model.params[1],\n",
            "<ipython-input-81-100154a856fb>:128: FutureWarning: Series.__getitem__ treating keys as positions is deprecated. In a future version, integer keys will always be treated as labels (consistent with DataFrame behavior). To access a value by position, use `ser.iloc[pos]`\n",
            "  'alpha': model.params[0],\n",
            "<ipython-input-81-100154a856fb>:129: FutureWarning: Series.__getitem__ treating keys as positions is deprecated. In a future version, integer keys will always be treated as labels (consistent with DataFrame behavior). To access a value by position, use `ser.iloc[pos]`\n",
            "  'beta': model.params[1],\n",
            "<ipython-input-81-100154a856fb>:128: FutureWarning: Series.__getitem__ treating keys as positions is deprecated. In a future version, integer keys will always be treated as labels (consistent with DataFrame behavior). To access a value by position, use `ser.iloc[pos]`\n",
            "  'alpha': model.params[0],\n",
            "<ipython-input-81-100154a856fb>:129: FutureWarning: Series.__getitem__ treating keys as positions is deprecated. In a future version, integer keys will always be treated as labels (consistent with DataFrame behavior). To access a value by position, use `ser.iloc[pos]`\n",
            "  'beta': model.params[1],\n"
          ]
        },
        {
          "output_type": "stream",
          "name": "stdout",
          "text": [
            "ACEM_PX_LAST Regression Finished | R² = 0.3268\n",
            "ACEM_PX_OPEN Regression Finished | R² = 0.0166\n",
            "ACEM_PX_HIGH Regression Finished | R² = 0.0812\n",
            "ACEM_PX_LOW Regression Finished | R² = 0.1529\n"
          ]
        },
        {
          "output_type": "stream",
          "name": "stderr",
          "text": [
            "<ipython-input-81-100154a856fb>:128: FutureWarning: Series.__getitem__ treating keys as positions is deprecated. In a future version, integer keys will always be treated as labels (consistent with DataFrame behavior). To access a value by position, use `ser.iloc[pos]`\n",
            "  'alpha': model.params[0],\n",
            "<ipython-input-81-100154a856fb>:129: FutureWarning: Series.__getitem__ treating keys as positions is deprecated. In a future version, integer keys will always be treated as labels (consistent with DataFrame behavior). To access a value by position, use `ser.iloc[pos]`\n",
            "  'beta': model.params[1],\n",
            "<ipython-input-81-100154a856fb>:128: FutureWarning: Series.__getitem__ treating keys as positions is deprecated. In a future version, integer keys will always be treated as labels (consistent with DataFrame behavior). To access a value by position, use `ser.iloc[pos]`\n",
            "  'alpha': model.params[0],\n",
            "<ipython-input-81-100154a856fb>:129: FutureWarning: Series.__getitem__ treating keys as positions is deprecated. In a future version, integer keys will always be treated as labels (consistent with DataFrame behavior). To access a value by position, use `ser.iloc[pos]`\n",
            "  'beta': model.params[1],\n",
            "<ipython-input-81-100154a856fb>:128: FutureWarning: Series.__getitem__ treating keys as positions is deprecated. In a future version, integer keys will always be treated as labels (consistent with DataFrame behavior). To access a value by position, use `ser.iloc[pos]`\n",
            "  'alpha': model.params[0],\n",
            "<ipython-input-81-100154a856fb>:129: FutureWarning: Series.__getitem__ treating keys as positions is deprecated. In a future version, integer keys will always be treated as labels (consistent with DataFrame behavior). To access a value by position, use `ser.iloc[pos]`\n",
            "  'beta': model.params[1],\n",
            "<ipython-input-81-100154a856fb>:128: FutureWarning: Series.__getitem__ treating keys as positions is deprecated. In a future version, integer keys will always be treated as labels (consistent with DataFrame behavior). To access a value by position, use `ser.iloc[pos]`\n",
            "  'alpha': model.params[0],\n",
            "<ipython-input-81-100154a856fb>:129: FutureWarning: Series.__getitem__ treating keys as positions is deprecated. In a future version, integer keys will always be treated as labels (consistent with DataFrame behavior). To access a value by position, use `ser.iloc[pos]`\n",
            "  'beta': model.params[1],\n"
          ]
        },
        {
          "output_type": "stream",
          "name": "stdout",
          "text": [
            "ADANIENS_PX_LAST Regression Finished | R² = 0.1508\n",
            "ADANIENS_PX_OPEN Regression Finished | R² = 0.0061\n",
            "ADANIENS_PX_HIGH Regression Finished | R² = 0.0162\n",
            "ADANIENS_PX_LOW Regression Finished | R² = 0.0443\n"
          ]
        },
        {
          "output_type": "stream",
          "name": "stderr",
          "text": [
            "<ipython-input-81-100154a856fb>:128: FutureWarning: Series.__getitem__ treating keys as positions is deprecated. In a future version, integer keys will always be treated as labels (consistent with DataFrame behavior). To access a value by position, use `ser.iloc[pos]`\n",
            "  'alpha': model.params[0],\n",
            "<ipython-input-81-100154a856fb>:129: FutureWarning: Series.__getitem__ treating keys as positions is deprecated. In a future version, integer keys will always be treated as labels (consistent with DataFrame behavior). To access a value by position, use `ser.iloc[pos]`\n",
            "  'beta': model.params[1],\n",
            "<ipython-input-81-100154a856fb>:128: FutureWarning: Series.__getitem__ treating keys as positions is deprecated. In a future version, integer keys will always be treated as labels (consistent with DataFrame behavior). To access a value by position, use `ser.iloc[pos]`\n",
            "  'alpha': model.params[0],\n",
            "<ipython-input-81-100154a856fb>:129: FutureWarning: Series.__getitem__ treating keys as positions is deprecated. In a future version, integer keys will always be treated as labels (consistent with DataFrame behavior). To access a value by position, use `ser.iloc[pos]`\n",
            "  'beta': model.params[1],\n",
            "<ipython-input-81-100154a856fb>:128: FutureWarning: Series.__getitem__ treating keys as positions is deprecated. In a future version, integer keys will always be treated as labels (consistent with DataFrame behavior). To access a value by position, use `ser.iloc[pos]`\n",
            "  'alpha': model.params[0],\n",
            "<ipython-input-81-100154a856fb>:129: FutureWarning: Series.__getitem__ treating keys as positions is deprecated. In a future version, integer keys will always be treated as labels (consistent with DataFrame behavior). To access a value by position, use `ser.iloc[pos]`\n",
            "  'beta': model.params[1],\n",
            "<ipython-input-81-100154a856fb>:128: FutureWarning: Series.__getitem__ treating keys as positions is deprecated. In a future version, integer keys will always be treated as labels (consistent with DataFrame behavior). To access a value by position, use `ser.iloc[pos]`\n",
            "  'alpha': model.params[0],\n",
            "<ipython-input-81-100154a856fb>:129: FutureWarning: Series.__getitem__ treating keys as positions is deprecated. In a future version, integer keys will always be treated as labels (consistent with DataFrame behavior). To access a value by position, use `ser.iloc[pos]`\n",
            "  'beta': model.params[1],\n"
          ]
        },
        {
          "output_type": "stream",
          "name": "stdout",
          "text": [
            "ADANIGR_PX_LAST Regression Finished | R² = 0.1053\n",
            "ADANIGR_PX_OPEN Regression Finished | R² = 0.0038\n",
            "ADANIGR_PX_HIGH Regression Finished | R² = 0.0206\n",
            "ADANIGR_PX_LOW Regression Finished | R² = 0.0266\n"
          ]
        },
        {
          "output_type": "stream",
          "name": "stderr",
          "text": [
            "<ipython-input-81-100154a856fb>:128: FutureWarning: Series.__getitem__ treating keys as positions is deprecated. In a future version, integer keys will always be treated as labels (consistent with DataFrame behavior). To access a value by position, use `ser.iloc[pos]`\n",
            "  'alpha': model.params[0],\n",
            "<ipython-input-81-100154a856fb>:129: FutureWarning: Series.__getitem__ treating keys as positions is deprecated. In a future version, integer keys will always be treated as labels (consistent with DataFrame behavior). To access a value by position, use `ser.iloc[pos]`\n",
            "  'beta': model.params[1],\n",
            "<ipython-input-81-100154a856fb>:128: FutureWarning: Series.__getitem__ treating keys as positions is deprecated. In a future version, integer keys will always be treated as labels (consistent with DataFrame behavior). To access a value by position, use `ser.iloc[pos]`\n",
            "  'alpha': model.params[0],\n",
            "<ipython-input-81-100154a856fb>:129: FutureWarning: Series.__getitem__ treating keys as positions is deprecated. In a future version, integer keys will always be treated as labels (consistent with DataFrame behavior). To access a value by position, use `ser.iloc[pos]`\n",
            "  'beta': model.params[1],\n",
            "<ipython-input-81-100154a856fb>:128: FutureWarning: Series.__getitem__ treating keys as positions is deprecated. In a future version, integer keys will always be treated as labels (consistent with DataFrame behavior). To access a value by position, use `ser.iloc[pos]`\n",
            "  'alpha': model.params[0],\n",
            "<ipython-input-81-100154a856fb>:129: FutureWarning: Series.__getitem__ treating keys as positions is deprecated. In a future version, integer keys will always be treated as labels (consistent with DataFrame behavior). To access a value by position, use `ser.iloc[pos]`\n",
            "  'beta': model.params[1],\n",
            "<ipython-input-81-100154a856fb>:128: FutureWarning: Series.__getitem__ treating keys as positions is deprecated. In a future version, integer keys will always be treated as labels (consistent with DataFrame behavior). To access a value by position, use `ser.iloc[pos]`\n",
            "  'alpha': model.params[0],\n",
            "<ipython-input-81-100154a856fb>:129: FutureWarning: Series.__getitem__ treating keys as positions is deprecated. In a future version, integer keys will always be treated as labels (consistent with DataFrame behavior). To access a value by position, use `ser.iloc[pos]`\n",
            "  'beta': model.params[1],\n"
          ]
        },
        {
          "output_type": "stream",
          "name": "stdout",
          "text": [
            "ADE_PX_LAST Regression Finished | R² = 0.2581\n",
            "ADE_PX_OPEN Regression Finished | R² = 0.0073\n",
            "ADE_PX_HIGH Regression Finished | R² = 0.0302\n",
            "ADE_PX_LOW Regression Finished | R² = 0.1052\n"
          ]
        },
        {
          "output_type": "stream",
          "name": "stderr",
          "text": [
            "<ipython-input-81-100154a856fb>:128: FutureWarning: Series.__getitem__ treating keys as positions is deprecated. In a future version, integer keys will always be treated as labels (consistent with DataFrame behavior). To access a value by position, use `ser.iloc[pos]`\n",
            "  'alpha': model.params[0],\n",
            "<ipython-input-81-100154a856fb>:129: FutureWarning: Series.__getitem__ treating keys as positions is deprecated. In a future version, integer keys will always be treated as labels (consistent with DataFrame behavior). To access a value by position, use `ser.iloc[pos]`\n",
            "  'beta': model.params[1],\n",
            "<ipython-input-81-100154a856fb>:128: FutureWarning: Series.__getitem__ treating keys as positions is deprecated. In a future version, integer keys will always be treated as labels (consistent with DataFrame behavior). To access a value by position, use `ser.iloc[pos]`\n",
            "  'alpha': model.params[0],\n",
            "<ipython-input-81-100154a856fb>:129: FutureWarning: Series.__getitem__ treating keys as positions is deprecated. In a future version, integer keys will always be treated as labels (consistent with DataFrame behavior). To access a value by position, use `ser.iloc[pos]`\n",
            "  'beta': model.params[1],\n",
            "<ipython-input-81-100154a856fb>:128: FutureWarning: Series.__getitem__ treating keys as positions is deprecated. In a future version, integer keys will always be treated as labels (consistent with DataFrame behavior). To access a value by position, use `ser.iloc[pos]`\n",
            "  'alpha': model.params[0],\n",
            "<ipython-input-81-100154a856fb>:129: FutureWarning: Series.__getitem__ treating keys as positions is deprecated. In a future version, integer keys will always be treated as labels (consistent with DataFrame behavior). To access a value by position, use `ser.iloc[pos]`\n",
            "  'beta': model.params[1],\n",
            "<ipython-input-81-100154a856fb>:128: FutureWarning: Series.__getitem__ treating keys as positions is deprecated. In a future version, integer keys will always be treated as labels (consistent with DataFrame behavior). To access a value by position, use `ser.iloc[pos]`\n",
            "  'alpha': model.params[0],\n",
            "<ipython-input-81-100154a856fb>:129: FutureWarning: Series.__getitem__ treating keys as positions is deprecated. In a future version, integer keys will always be treated as labels (consistent with DataFrame behavior). To access a value by position, use `ser.iloc[pos]`\n",
            "  'beta': model.params[1],\n"
          ]
        },
        {
          "output_type": "stream",
          "name": "stdout",
          "text": [
            "ADSEZ_PX_LAST Regression Finished | R² = 0.3113\n",
            "ADSEZ_PX_OPEN Regression Finished | R² = 0.0228\n",
            "ADSEZ_PX_HIGH Regression Finished | R² = 0.0926\n",
            "ADSEZ_PX_LOW Regression Finished | R² = 0.1184\n"
          ]
        },
        {
          "output_type": "stream",
          "name": "stderr",
          "text": [
            "<ipython-input-81-100154a856fb>:128: FutureWarning: Series.__getitem__ treating keys as positions is deprecated. In a future version, integer keys will always be treated as labels (consistent with DataFrame behavior). To access a value by position, use `ser.iloc[pos]`\n",
            "  'alpha': model.params[0],\n",
            "<ipython-input-81-100154a856fb>:129: FutureWarning: Series.__getitem__ treating keys as positions is deprecated. In a future version, integer keys will always be treated as labels (consistent with DataFrame behavior). To access a value by position, use `ser.iloc[pos]`\n",
            "  'beta': model.params[1],\n",
            "<ipython-input-81-100154a856fb>:128: FutureWarning: Series.__getitem__ treating keys as positions is deprecated. In a future version, integer keys will always be treated as labels (consistent with DataFrame behavior). To access a value by position, use `ser.iloc[pos]`\n",
            "  'alpha': model.params[0],\n",
            "<ipython-input-81-100154a856fb>:129: FutureWarning: Series.__getitem__ treating keys as positions is deprecated. In a future version, integer keys will always be treated as labels (consistent with DataFrame behavior). To access a value by position, use `ser.iloc[pos]`\n",
            "  'beta': model.params[1],\n",
            "<ipython-input-81-100154a856fb>:128: FutureWarning: Series.__getitem__ treating keys as positions is deprecated. In a future version, integer keys will always be treated as labels (consistent with DataFrame behavior). To access a value by position, use `ser.iloc[pos]`\n",
            "  'alpha': model.params[0],\n",
            "<ipython-input-81-100154a856fb>:129: FutureWarning: Series.__getitem__ treating keys as positions is deprecated. In a future version, integer keys will always be treated as labels (consistent with DataFrame behavior). To access a value by position, use `ser.iloc[pos]`\n",
            "  'beta': model.params[1],\n",
            "<ipython-input-81-100154a856fb>:128: FutureWarning: Series.__getitem__ treating keys as positions is deprecated. In a future version, integer keys will always be treated as labels (consistent with DataFrame behavior). To access a value by position, use `ser.iloc[pos]`\n",
            "  'alpha': model.params[0],\n",
            "<ipython-input-81-100154a856fb>:129: FutureWarning: Series.__getitem__ treating keys as positions is deprecated. In a future version, integer keys will always be treated as labels (consistent with DataFrame behavior). To access a value by position, use `ser.iloc[pos]`\n",
            "  'beta': model.params[1],\n"
          ]
        },
        {
          "output_type": "stream",
          "name": "stdout",
          "text": [
            "AL_PX_LAST Regression Finished | R² = 0.3266\n",
            "AL_PX_OPEN Regression Finished | R² = 0.0215\n",
            "AL_PX_HIGH Regression Finished | R² = 0.0810\n",
            "AL_PX_LOW Regression Finished | R² = 0.1519\n"
          ]
        },
        {
          "output_type": "stream",
          "name": "stderr",
          "text": [
            "<ipython-input-81-100154a856fb>:128: FutureWarning: Series.__getitem__ treating keys as positions is deprecated. In a future version, integer keys will always be treated as labels (consistent with DataFrame behavior). To access a value by position, use `ser.iloc[pos]`\n",
            "  'alpha': model.params[0],\n",
            "<ipython-input-81-100154a856fb>:129: FutureWarning: Series.__getitem__ treating keys as positions is deprecated. In a future version, integer keys will always be treated as labels (consistent with DataFrame behavior). To access a value by position, use `ser.iloc[pos]`\n",
            "  'beta': model.params[1],\n",
            "<ipython-input-81-100154a856fb>:128: FutureWarning: Series.__getitem__ treating keys as positions is deprecated. In a future version, integer keys will always be treated as labels (consistent with DataFrame behavior). To access a value by position, use `ser.iloc[pos]`\n",
            "  'alpha': model.params[0],\n",
            "<ipython-input-81-100154a856fb>:129: FutureWarning: Series.__getitem__ treating keys as positions is deprecated. In a future version, integer keys will always be treated as labels (consistent with DataFrame behavior). To access a value by position, use `ser.iloc[pos]`\n",
            "  'beta': model.params[1],\n",
            "<ipython-input-81-100154a856fb>:128: FutureWarning: Series.__getitem__ treating keys as positions is deprecated. In a future version, integer keys will always be treated as labels (consistent with DataFrame behavior). To access a value by position, use `ser.iloc[pos]`\n",
            "  'alpha': model.params[0],\n",
            "<ipython-input-81-100154a856fb>:129: FutureWarning: Series.__getitem__ treating keys as positions is deprecated. In a future version, integer keys will always be treated as labels (consistent with DataFrame behavior). To access a value by position, use `ser.iloc[pos]`\n",
            "  'beta': model.params[1],\n",
            "<ipython-input-81-100154a856fb>:128: FutureWarning: Series.__getitem__ treating keys as positions is deprecated. In a future version, integer keys will always be treated as labels (consistent with DataFrame behavior). To access a value by position, use `ser.iloc[pos]`\n",
            "  'alpha': model.params[0],\n",
            "<ipython-input-81-100154a856fb>:129: FutureWarning: Series.__getitem__ treating keys as positions is deprecated. In a future version, integer keys will always be treated as labels (consistent with DataFrame behavior). To access a value by position, use `ser.iloc[pos]`\n",
            "  'beta': model.params[1],\n"
          ]
        }
      ]
    },
    {
      "cell_type": "code",
      "source": [
        "df[df['security'] == 'ADANIGR IN Equity']"
      ],
      "metadata": {
        "colab": {
          "base_uri": "https://localhost:8080/",
          "height": 649
        },
        "id": "sGwwGKT41Rsi",
        "outputId": "50894ed0-692a-4e45-83c9-71d12d42c827"
      },
      "execution_count": 65,
      "outputs": [
        {
          "output_type": "execute_result",
          "data": {
            "text/plain": [
              "                     security  PX_OPEN  PX_HIGH   PX_LOW  PX_LAST  \\\n",
              "date                                                                \n",
              "2018-06-19  ADANIGR IN Equity    30.85    33.05    30.85    32.60   \n",
              "2018-06-20  ADANIGR IN Equity    31.50    32.30    29.70    31.00   \n",
              "2018-06-21  ADANIGR IN Equity    30.90    30.90    29.45    29.65   \n",
              "2018-06-22  ADANIGR IN Equity    28.50    30.25    28.20    29.45   \n",
              "2018-06-25  ADANIGR IN Equity    30.00    30.35    28.50    28.95   \n",
              "...                       ...      ...      ...      ...      ...   \n",
              "2022-12-26  ADANIGR IN Equity  1802.20  1910.70  1754.20  1876.85   \n",
              "2022-12-27  ADANIGR IN Equity  1898.85  1930.00  1883.25  1908.70   \n",
              "2022-12-28  ADANIGR IN Equity  1907.00  1943.80  1877.00  1897.85   \n",
              "2022-12-29  ADANIGR IN Equity  1892.05  1938.00  1865.00  1910.25   \n",
              "2022-12-30  ADANIGR IN Equity  1939.90  1996.00  1910.00  1931.80   \n",
              "\n",
              "            EQY_WEIGHTED_AVG_PX  PX_VOLUME   totalVolume  maxStockVolume  \\\n",
              "date                                                                       \n",
              "2018-06-19              32.5568  2899948.0  1.844077e+09     188486475.0   \n",
              "2018-06-20              30.9847  1699906.0  1.613264e+09     150118762.0   \n",
              "2018-06-21              29.6120  2935258.0  1.618017e+09     102168370.0   \n",
              "2018-06-22              29.1250  3385753.0  1.555867e+09     132989600.0   \n",
              "2018-06-25              29.2940  2926306.0  1.443816e+09      92282290.0   \n",
              "...                         ...        ...           ...             ...   \n",
              "2022-12-26            1854.2916  1311471.0  4.636184e+09     603176710.0   \n",
              "2022-12-27            1904.3550   945355.0  3.941657e+09     571904482.0   \n",
              "2022-12-28            1909.9215  1044534.0  3.586216e+09     449797945.0   \n",
              "2022-12-29            1895.0469   828430.0  3.236641e+09     280794652.0   \n",
              "2022-12-30            1960.3016  1646844.0  3.340415e+09     316126759.0   \n",
              "\n",
              "            volume_ratio  ...  returnsHigh  returnsLow  LOGRET_PX_LAST  \\\n",
              "date                      ...                                            \n",
              "2018-06-19      0.001573  ...     0.049206    0.142593             NaN   \n",
              "2018-06-20      0.001054  ...    -0.022693   -0.037277       -0.050325   \n",
              "2018-06-21      0.001814  ...    -0.043344   -0.008418       -0.044525   \n",
              "2018-06-22      0.002176  ...    -0.021036   -0.042445       -0.006768   \n",
              "2018-06-25      0.002027  ...     0.003306    0.010638       -0.017124   \n",
              "...                  ...  ...          ...         ...             ...   \n",
              "2022-12-26      0.000283  ...    -0.030102   -0.014854        0.036793   \n",
              "2022-12-27      0.000240  ...     0.010101    0.073566        0.016828   \n",
              "2022-12-28      0.000291  ...     0.007150   -0.003319       -0.005701   \n",
              "2022-12-29      0.000256  ...    -0.002984   -0.006393        0.006512   \n",
              "2022-12-30      0.000493  ...     0.029928    0.024129        0.011218   \n",
              "\n",
              "            IDIO_PX_LAST  LOGRET_PX_OPEN  IDIO_PX_OPEN  LOGRET_PX_HIGH  \\\n",
              "date                                                                     \n",
              "2018-06-19           NaN             NaN           NaN             NaN   \n",
              "2018-06-20     -0.057933        0.020851           NaN       -0.022954   \n",
              "2018-06-21     -0.044684       -0.019231           NaN       -0.044311   \n",
              "2018-06-22     -0.016132       -0.080852           NaN       -0.021260   \n",
              "2018-06-25     -0.014451        0.051293           NaN        0.003300   \n",
              "...                  ...             ...           ...             ...   \n",
              "2022-12-26      0.019881       -0.074272     -0.082197       -0.030564   \n",
              "2022-12-27      0.006983        0.052240      0.046351        0.010050   \n",
              "2022-12-28     -0.009354        0.004283      0.000176        0.007125   \n",
              "2022-12-29      0.000131       -0.007870     -0.012763       -0.002988   \n",
              "2022-12-30      0.011076        0.024976      0.021879        0.029489   \n",
              "\n",
              "            IDIO_PX_HIGH  LOGRET_PX_LOW  IDIO_PX_LOW  \n",
              "date                                                  \n",
              "2018-06-19           NaN            NaN          NaN  \n",
              "2018-06-20           NaN      -0.037990          NaN  \n",
              "2018-06-21           NaN      -0.008453          NaN  \n",
              "2018-06-22           NaN      -0.043372          NaN  \n",
              "2018-06-25           NaN       0.010582          NaN  \n",
              "...                  ...            ...          ...  \n",
              "2022-12-26     -0.042972      -0.014966    -0.028404  \n",
              "2022-12-27      0.001899       0.070986     0.062475  \n",
              "2022-12-28      0.002702      -0.003324    -0.007520  \n",
              "2022-12-29     -0.009054      -0.006414    -0.012511  \n",
              "2022-12-30      0.027181       0.023842     0.022094  \n",
              "\n",
              "[1124 rows x 23 columns]"
            ],
            "text/html": [
              "\n",
              "  <div id=\"df-0043ee61-c255-4c71-ba84-923231444633\" class=\"colab-df-container\">\n",
              "    <div>\n",
              "<style scoped>\n",
              "    .dataframe tbody tr th:only-of-type {\n",
              "        vertical-align: middle;\n",
              "    }\n",
              "\n",
              "    .dataframe tbody tr th {\n",
              "        vertical-align: top;\n",
              "    }\n",
              "\n",
              "    .dataframe thead th {\n",
              "        text-align: right;\n",
              "    }\n",
              "</style>\n",
              "<table border=\"1\" class=\"dataframe\">\n",
              "  <thead>\n",
              "    <tr style=\"text-align: right;\">\n",
              "      <th></th>\n",
              "      <th>security</th>\n",
              "      <th>PX_OPEN</th>\n",
              "      <th>PX_HIGH</th>\n",
              "      <th>PX_LOW</th>\n",
              "      <th>PX_LAST</th>\n",
              "      <th>EQY_WEIGHTED_AVG_PX</th>\n",
              "      <th>PX_VOLUME</th>\n",
              "      <th>totalVolume</th>\n",
              "      <th>maxStockVolume</th>\n",
              "      <th>volume_ratio</th>\n",
              "      <th>...</th>\n",
              "      <th>returnsHigh</th>\n",
              "      <th>returnsLow</th>\n",
              "      <th>LOGRET_PX_LAST</th>\n",
              "      <th>IDIO_PX_LAST</th>\n",
              "      <th>LOGRET_PX_OPEN</th>\n",
              "      <th>IDIO_PX_OPEN</th>\n",
              "      <th>LOGRET_PX_HIGH</th>\n",
              "      <th>IDIO_PX_HIGH</th>\n",
              "      <th>LOGRET_PX_LOW</th>\n",
              "      <th>IDIO_PX_LOW</th>\n",
              "    </tr>\n",
              "    <tr>\n",
              "      <th>date</th>\n",
              "      <th></th>\n",
              "      <th></th>\n",
              "      <th></th>\n",
              "      <th></th>\n",
              "      <th></th>\n",
              "      <th></th>\n",
              "      <th></th>\n",
              "      <th></th>\n",
              "      <th></th>\n",
              "      <th></th>\n",
              "      <th></th>\n",
              "      <th></th>\n",
              "      <th></th>\n",
              "      <th></th>\n",
              "      <th></th>\n",
              "      <th></th>\n",
              "      <th></th>\n",
              "      <th></th>\n",
              "      <th></th>\n",
              "      <th></th>\n",
              "      <th></th>\n",
              "    </tr>\n",
              "  </thead>\n",
              "  <tbody>\n",
              "    <tr>\n",
              "      <th>2018-06-19</th>\n",
              "      <td>ADANIGR IN Equity</td>\n",
              "      <td>30.85</td>\n",
              "      <td>33.05</td>\n",
              "      <td>30.85</td>\n",
              "      <td>32.60</td>\n",
              "      <td>32.5568</td>\n",
              "      <td>2899948.0</td>\n",
              "      <td>1.844077e+09</td>\n",
              "      <td>188486475.0</td>\n",
              "      <td>0.001573</td>\n",
              "      <td>...</td>\n",
              "      <td>0.049206</td>\n",
              "      <td>0.142593</td>\n",
              "      <td>NaN</td>\n",
              "      <td>NaN</td>\n",
              "      <td>NaN</td>\n",
              "      <td>NaN</td>\n",
              "      <td>NaN</td>\n",
              "      <td>NaN</td>\n",
              "      <td>NaN</td>\n",
              "      <td>NaN</td>\n",
              "    </tr>\n",
              "    <tr>\n",
              "      <th>2018-06-20</th>\n",
              "      <td>ADANIGR IN Equity</td>\n",
              "      <td>31.50</td>\n",
              "      <td>32.30</td>\n",
              "      <td>29.70</td>\n",
              "      <td>31.00</td>\n",
              "      <td>30.9847</td>\n",
              "      <td>1699906.0</td>\n",
              "      <td>1.613264e+09</td>\n",
              "      <td>150118762.0</td>\n",
              "      <td>0.001054</td>\n",
              "      <td>...</td>\n",
              "      <td>-0.022693</td>\n",
              "      <td>-0.037277</td>\n",
              "      <td>-0.050325</td>\n",
              "      <td>-0.057933</td>\n",
              "      <td>0.020851</td>\n",
              "      <td>NaN</td>\n",
              "      <td>-0.022954</td>\n",
              "      <td>NaN</td>\n",
              "      <td>-0.037990</td>\n",
              "      <td>NaN</td>\n",
              "    </tr>\n",
              "    <tr>\n",
              "      <th>2018-06-21</th>\n",
              "      <td>ADANIGR IN Equity</td>\n",
              "      <td>30.90</td>\n",
              "      <td>30.90</td>\n",
              "      <td>29.45</td>\n",
              "      <td>29.65</td>\n",
              "      <td>29.6120</td>\n",
              "      <td>2935258.0</td>\n",
              "      <td>1.618017e+09</td>\n",
              "      <td>102168370.0</td>\n",
              "      <td>0.001814</td>\n",
              "      <td>...</td>\n",
              "      <td>-0.043344</td>\n",
              "      <td>-0.008418</td>\n",
              "      <td>-0.044525</td>\n",
              "      <td>-0.044684</td>\n",
              "      <td>-0.019231</td>\n",
              "      <td>NaN</td>\n",
              "      <td>-0.044311</td>\n",
              "      <td>NaN</td>\n",
              "      <td>-0.008453</td>\n",
              "      <td>NaN</td>\n",
              "    </tr>\n",
              "    <tr>\n",
              "      <th>2018-06-22</th>\n",
              "      <td>ADANIGR IN Equity</td>\n",
              "      <td>28.50</td>\n",
              "      <td>30.25</td>\n",
              "      <td>28.20</td>\n",
              "      <td>29.45</td>\n",
              "      <td>29.1250</td>\n",
              "      <td>3385753.0</td>\n",
              "      <td>1.555867e+09</td>\n",
              "      <td>132989600.0</td>\n",
              "      <td>0.002176</td>\n",
              "      <td>...</td>\n",
              "      <td>-0.021036</td>\n",
              "      <td>-0.042445</td>\n",
              "      <td>-0.006768</td>\n",
              "      <td>-0.016132</td>\n",
              "      <td>-0.080852</td>\n",
              "      <td>NaN</td>\n",
              "      <td>-0.021260</td>\n",
              "      <td>NaN</td>\n",
              "      <td>-0.043372</td>\n",
              "      <td>NaN</td>\n",
              "    </tr>\n",
              "    <tr>\n",
              "      <th>2018-06-25</th>\n",
              "      <td>ADANIGR IN Equity</td>\n",
              "      <td>30.00</td>\n",
              "      <td>30.35</td>\n",
              "      <td>28.50</td>\n",
              "      <td>28.95</td>\n",
              "      <td>29.2940</td>\n",
              "      <td>2926306.0</td>\n",
              "      <td>1.443816e+09</td>\n",
              "      <td>92282290.0</td>\n",
              "      <td>0.002027</td>\n",
              "      <td>...</td>\n",
              "      <td>0.003306</td>\n",
              "      <td>0.010638</td>\n",
              "      <td>-0.017124</td>\n",
              "      <td>-0.014451</td>\n",
              "      <td>0.051293</td>\n",
              "      <td>NaN</td>\n",
              "      <td>0.003300</td>\n",
              "      <td>NaN</td>\n",
              "      <td>0.010582</td>\n",
              "      <td>NaN</td>\n",
              "    </tr>\n",
              "    <tr>\n",
              "      <th>...</th>\n",
              "      <td>...</td>\n",
              "      <td>...</td>\n",
              "      <td>...</td>\n",
              "      <td>...</td>\n",
              "      <td>...</td>\n",
              "      <td>...</td>\n",
              "      <td>...</td>\n",
              "      <td>...</td>\n",
              "      <td>...</td>\n",
              "      <td>...</td>\n",
              "      <td>...</td>\n",
              "      <td>...</td>\n",
              "      <td>...</td>\n",
              "      <td>...</td>\n",
              "      <td>...</td>\n",
              "      <td>...</td>\n",
              "      <td>...</td>\n",
              "      <td>...</td>\n",
              "      <td>...</td>\n",
              "      <td>...</td>\n",
              "      <td>...</td>\n",
              "    </tr>\n",
              "    <tr>\n",
              "      <th>2022-12-26</th>\n",
              "      <td>ADANIGR IN Equity</td>\n",
              "      <td>1802.20</td>\n",
              "      <td>1910.70</td>\n",
              "      <td>1754.20</td>\n",
              "      <td>1876.85</td>\n",
              "      <td>1854.2916</td>\n",
              "      <td>1311471.0</td>\n",
              "      <td>4.636184e+09</td>\n",
              "      <td>603176710.0</td>\n",
              "      <td>0.000283</td>\n",
              "      <td>...</td>\n",
              "      <td>-0.030102</td>\n",
              "      <td>-0.014854</td>\n",
              "      <td>0.036793</td>\n",
              "      <td>0.019881</td>\n",
              "      <td>-0.074272</td>\n",
              "      <td>-0.082197</td>\n",
              "      <td>-0.030564</td>\n",
              "      <td>-0.042972</td>\n",
              "      <td>-0.014966</td>\n",
              "      <td>-0.028404</td>\n",
              "    </tr>\n",
              "    <tr>\n",
              "      <th>2022-12-27</th>\n",
              "      <td>ADANIGR IN Equity</td>\n",
              "      <td>1898.85</td>\n",
              "      <td>1930.00</td>\n",
              "      <td>1883.25</td>\n",
              "      <td>1908.70</td>\n",
              "      <td>1904.3550</td>\n",
              "      <td>945355.0</td>\n",
              "      <td>3.941657e+09</td>\n",
              "      <td>571904482.0</td>\n",
              "      <td>0.000240</td>\n",
              "      <td>...</td>\n",
              "      <td>0.010101</td>\n",
              "      <td>0.073566</td>\n",
              "      <td>0.016828</td>\n",
              "      <td>0.006983</td>\n",
              "      <td>0.052240</td>\n",
              "      <td>0.046351</td>\n",
              "      <td>0.010050</td>\n",
              "      <td>0.001899</td>\n",
              "      <td>0.070986</td>\n",
              "      <td>0.062475</td>\n",
              "    </tr>\n",
              "    <tr>\n",
              "      <th>2022-12-28</th>\n",
              "      <td>ADANIGR IN Equity</td>\n",
              "      <td>1907.00</td>\n",
              "      <td>1943.80</td>\n",
              "      <td>1877.00</td>\n",
              "      <td>1897.85</td>\n",
              "      <td>1909.9215</td>\n",
              "      <td>1044534.0</td>\n",
              "      <td>3.586216e+09</td>\n",
              "      <td>449797945.0</td>\n",
              "      <td>0.000291</td>\n",
              "      <td>...</td>\n",
              "      <td>0.007150</td>\n",
              "      <td>-0.003319</td>\n",
              "      <td>-0.005701</td>\n",
              "      <td>-0.009354</td>\n",
              "      <td>0.004283</td>\n",
              "      <td>0.000176</td>\n",
              "      <td>0.007125</td>\n",
              "      <td>0.002702</td>\n",
              "      <td>-0.003324</td>\n",
              "      <td>-0.007520</td>\n",
              "    </tr>\n",
              "    <tr>\n",
              "      <th>2022-12-29</th>\n",
              "      <td>ADANIGR IN Equity</td>\n",
              "      <td>1892.05</td>\n",
              "      <td>1938.00</td>\n",
              "      <td>1865.00</td>\n",
              "      <td>1910.25</td>\n",
              "      <td>1895.0469</td>\n",
              "      <td>828430.0</td>\n",
              "      <td>3.236641e+09</td>\n",
              "      <td>280794652.0</td>\n",
              "      <td>0.000256</td>\n",
              "      <td>...</td>\n",
              "      <td>-0.002984</td>\n",
              "      <td>-0.006393</td>\n",
              "      <td>0.006512</td>\n",
              "      <td>0.000131</td>\n",
              "      <td>-0.007870</td>\n",
              "      <td>-0.012763</td>\n",
              "      <td>-0.002988</td>\n",
              "      <td>-0.009054</td>\n",
              "      <td>-0.006414</td>\n",
              "      <td>-0.012511</td>\n",
              "    </tr>\n",
              "    <tr>\n",
              "      <th>2022-12-30</th>\n",
              "      <td>ADANIGR IN Equity</td>\n",
              "      <td>1939.90</td>\n",
              "      <td>1996.00</td>\n",
              "      <td>1910.00</td>\n",
              "      <td>1931.80</td>\n",
              "      <td>1960.3016</td>\n",
              "      <td>1646844.0</td>\n",
              "      <td>3.340415e+09</td>\n",
              "      <td>316126759.0</td>\n",
              "      <td>0.000493</td>\n",
              "      <td>...</td>\n",
              "      <td>0.029928</td>\n",
              "      <td>0.024129</td>\n",
              "      <td>0.011218</td>\n",
              "      <td>0.011076</td>\n",
              "      <td>0.024976</td>\n",
              "      <td>0.021879</td>\n",
              "      <td>0.029489</td>\n",
              "      <td>0.027181</td>\n",
              "      <td>0.023842</td>\n",
              "      <td>0.022094</td>\n",
              "    </tr>\n",
              "  </tbody>\n",
              "</table>\n",
              "<p>1124 rows × 23 columns</p>\n",
              "</div>\n",
              "    <div class=\"colab-df-buttons\">\n",
              "\n",
              "  <div class=\"colab-df-container\">\n",
              "    <button class=\"colab-df-convert\" onclick=\"convertToInteractive('df-0043ee61-c255-4c71-ba84-923231444633')\"\n",
              "            title=\"Convert this dataframe to an interactive table.\"\n",
              "            style=\"display:none;\">\n",
              "\n",
              "  <svg xmlns=\"http://www.w3.org/2000/svg\" height=\"24px\" viewBox=\"0 -960 960 960\">\n",
              "    <path d=\"M120-120v-720h720v720H120Zm60-500h600v-160H180v160Zm220 220h160v-160H400v160Zm0 220h160v-160H400v160ZM180-400h160v-160H180v160Zm440 0h160v-160H620v160ZM180-180h160v-160H180v160Zm440 0h160v-160H620v160Z\"/>\n",
              "  </svg>\n",
              "    </button>\n",
              "\n",
              "  <style>\n",
              "    .colab-df-container {\n",
              "      display:flex;\n",
              "      gap: 12px;\n",
              "    }\n",
              "\n",
              "    .colab-df-convert {\n",
              "      background-color: #E8F0FE;\n",
              "      border: none;\n",
              "      border-radius: 50%;\n",
              "      cursor: pointer;\n",
              "      display: none;\n",
              "      fill: #1967D2;\n",
              "      height: 32px;\n",
              "      padding: 0 0 0 0;\n",
              "      width: 32px;\n",
              "    }\n",
              "\n",
              "    .colab-df-convert:hover {\n",
              "      background-color: #E2EBFA;\n",
              "      box-shadow: 0px 1px 2px rgba(60, 64, 67, 0.3), 0px 1px 3px 1px rgba(60, 64, 67, 0.15);\n",
              "      fill: #174EA6;\n",
              "    }\n",
              "\n",
              "    .colab-df-buttons div {\n",
              "      margin-bottom: 4px;\n",
              "    }\n",
              "\n",
              "    [theme=dark] .colab-df-convert {\n",
              "      background-color: #3B4455;\n",
              "      fill: #D2E3FC;\n",
              "    }\n",
              "\n",
              "    [theme=dark] .colab-df-convert:hover {\n",
              "      background-color: #434B5C;\n",
              "      box-shadow: 0px 1px 3px 1px rgba(0, 0, 0, 0.15);\n",
              "      filter: drop-shadow(0px 1px 2px rgba(0, 0, 0, 0.3));\n",
              "      fill: #FFFFFF;\n",
              "    }\n",
              "  </style>\n",
              "\n",
              "    <script>\n",
              "      const buttonEl =\n",
              "        document.querySelector('#df-0043ee61-c255-4c71-ba84-923231444633 button.colab-df-convert');\n",
              "      buttonEl.style.display =\n",
              "        google.colab.kernel.accessAllowed ? 'block' : 'none';\n",
              "\n",
              "      async function convertToInteractive(key) {\n",
              "        const element = document.querySelector('#df-0043ee61-c255-4c71-ba84-923231444633');\n",
              "        const dataTable =\n",
              "          await google.colab.kernel.invokeFunction('convertToInteractive',\n",
              "                                                    [key], {});\n",
              "        if (!dataTable) return;\n",
              "\n",
              "        const docLinkHtml = 'Like what you see? Visit the ' +\n",
              "          '<a target=\"_blank\" href=https://colab.research.google.com/notebooks/data_table.ipynb>data table notebook</a>'\n",
              "          + ' to learn more about interactive tables.';\n",
              "        element.innerHTML = '';\n",
              "        dataTable['output_type'] = 'display_data';\n",
              "        await google.colab.output.renderOutput(dataTable, element);\n",
              "        const docLink = document.createElement('div');\n",
              "        docLink.innerHTML = docLinkHtml;\n",
              "        element.appendChild(docLink);\n",
              "      }\n",
              "    </script>\n",
              "  </div>\n",
              "\n",
              "\n",
              "<div id=\"df-cd785be8-97b5-4b12-9527-562233759c94\">\n",
              "  <button class=\"colab-df-quickchart\" onclick=\"quickchart('df-cd785be8-97b5-4b12-9527-562233759c94')\"\n",
              "            title=\"Suggest charts\"\n",
              "            style=\"display:none;\">\n",
              "\n",
              "<svg xmlns=\"http://www.w3.org/2000/svg\" height=\"24px\"viewBox=\"0 0 24 24\"\n",
              "     width=\"24px\">\n",
              "    <g>\n",
              "        <path d=\"M19 3H5c-1.1 0-2 .9-2 2v14c0 1.1.9 2 2 2h14c1.1 0 2-.9 2-2V5c0-1.1-.9-2-2-2zM9 17H7v-7h2v7zm4 0h-2V7h2v10zm4 0h-2v-4h2v4z\"/>\n",
              "    </g>\n",
              "</svg>\n",
              "  </button>\n",
              "\n",
              "<style>\n",
              "  .colab-df-quickchart {\n",
              "      --bg-color: #E8F0FE;\n",
              "      --fill-color: #1967D2;\n",
              "      --hover-bg-color: #E2EBFA;\n",
              "      --hover-fill-color: #174EA6;\n",
              "      --disabled-fill-color: #AAA;\n",
              "      --disabled-bg-color: #DDD;\n",
              "  }\n",
              "\n",
              "  [theme=dark] .colab-df-quickchart {\n",
              "      --bg-color: #3B4455;\n",
              "      --fill-color: #D2E3FC;\n",
              "      --hover-bg-color: #434B5C;\n",
              "      --hover-fill-color: #FFFFFF;\n",
              "      --disabled-bg-color: #3B4455;\n",
              "      --disabled-fill-color: #666;\n",
              "  }\n",
              "\n",
              "  .colab-df-quickchart {\n",
              "    background-color: var(--bg-color);\n",
              "    border: none;\n",
              "    border-radius: 50%;\n",
              "    cursor: pointer;\n",
              "    display: none;\n",
              "    fill: var(--fill-color);\n",
              "    height: 32px;\n",
              "    padding: 0;\n",
              "    width: 32px;\n",
              "  }\n",
              "\n",
              "  .colab-df-quickchart:hover {\n",
              "    background-color: var(--hover-bg-color);\n",
              "    box-shadow: 0 1px 2px rgba(60, 64, 67, 0.3), 0 1px 3px 1px rgba(60, 64, 67, 0.15);\n",
              "    fill: var(--button-hover-fill-color);\n",
              "  }\n",
              "\n",
              "  .colab-df-quickchart-complete:disabled,\n",
              "  .colab-df-quickchart-complete:disabled:hover {\n",
              "    background-color: var(--disabled-bg-color);\n",
              "    fill: var(--disabled-fill-color);\n",
              "    box-shadow: none;\n",
              "  }\n",
              "\n",
              "  .colab-df-spinner {\n",
              "    border: 2px solid var(--fill-color);\n",
              "    border-color: transparent;\n",
              "    border-bottom-color: var(--fill-color);\n",
              "    animation:\n",
              "      spin 1s steps(1) infinite;\n",
              "  }\n",
              "\n",
              "  @keyframes spin {\n",
              "    0% {\n",
              "      border-color: transparent;\n",
              "      border-bottom-color: var(--fill-color);\n",
              "      border-left-color: var(--fill-color);\n",
              "    }\n",
              "    20% {\n",
              "      border-color: transparent;\n",
              "      border-left-color: var(--fill-color);\n",
              "      border-top-color: var(--fill-color);\n",
              "    }\n",
              "    30% {\n",
              "      border-color: transparent;\n",
              "      border-left-color: var(--fill-color);\n",
              "      border-top-color: var(--fill-color);\n",
              "      border-right-color: var(--fill-color);\n",
              "    }\n",
              "    40% {\n",
              "      border-color: transparent;\n",
              "      border-right-color: var(--fill-color);\n",
              "      border-top-color: var(--fill-color);\n",
              "    }\n",
              "    60% {\n",
              "      border-color: transparent;\n",
              "      border-right-color: var(--fill-color);\n",
              "    }\n",
              "    80% {\n",
              "      border-color: transparent;\n",
              "      border-right-color: var(--fill-color);\n",
              "      border-bottom-color: var(--fill-color);\n",
              "    }\n",
              "    90% {\n",
              "      border-color: transparent;\n",
              "      border-bottom-color: var(--fill-color);\n",
              "    }\n",
              "  }\n",
              "</style>\n",
              "\n",
              "  <script>\n",
              "    async function quickchart(key) {\n",
              "      const quickchartButtonEl =\n",
              "        document.querySelector('#' + key + ' button');\n",
              "      quickchartButtonEl.disabled = true;  // To prevent multiple clicks.\n",
              "      quickchartButtonEl.classList.add('colab-df-spinner');\n",
              "      try {\n",
              "        const charts = await google.colab.kernel.invokeFunction(\n",
              "            'suggestCharts', [key], {});\n",
              "      } catch (error) {\n",
              "        console.error('Error during call to suggestCharts:', error);\n",
              "      }\n",
              "      quickchartButtonEl.classList.remove('colab-df-spinner');\n",
              "      quickchartButtonEl.classList.add('colab-df-quickchart-complete');\n",
              "    }\n",
              "    (() => {\n",
              "      let quickchartButtonEl =\n",
              "        document.querySelector('#df-cd785be8-97b5-4b12-9527-562233759c94 button');\n",
              "      quickchartButtonEl.style.display =\n",
              "        google.colab.kernel.accessAllowed ? 'block' : 'none';\n",
              "    })();\n",
              "  </script>\n",
              "</div>\n",
              "\n",
              "    </div>\n",
              "  </div>\n"
            ],
            "application/vnd.google.colaboratory.intrinsic+json": {
              "type": "dataframe"
            }
          },
          "metadata": {},
          "execution_count": 65
        }
      ]
    },
    {
      "cell_type": "code",
      "source": [
        "nifty200.loc['2018-06-20']"
      ],
      "metadata": {
        "colab": {
          "base_uri": "https://localhost:8080/",
          "height": 304
        },
        "id": "EjoGGuIAEROr",
        "outputId": "d0126f14-43f3-49bb-e4e6-1b4897a14f50"
      },
      "execution_count": 82,
      "outputs": [
        {
          "output_type": "execute_result",
          "data": {
            "text/plain": [
              "Unnamed: 0                       3605\n",
              "security               NSE200TR Index\n",
              "PX_OPEN                       7113.24\n",
              "PX_HIGH                       7113.24\n",
              "PX_LOW                        7113.24\n",
              "PX_LAST                       7086.53\n",
              "EQY_WEIGHTED_AVG_PX               NaN\n",
              "Name: 2018-06-20 00:00:00, dtype: object"
            ],
            "text/html": [
              "<div>\n",
              "<style scoped>\n",
              "    .dataframe tbody tr th:only-of-type {\n",
              "        vertical-align: middle;\n",
              "    }\n",
              "\n",
              "    .dataframe tbody tr th {\n",
              "        vertical-align: top;\n",
              "    }\n",
              "\n",
              "    .dataframe thead th {\n",
              "        text-align: right;\n",
              "    }\n",
              "</style>\n",
              "<table border=\"1\" class=\"dataframe\">\n",
              "  <thead>\n",
              "    <tr style=\"text-align: right;\">\n",
              "      <th></th>\n",
              "      <th>2018-06-20</th>\n",
              "    </tr>\n",
              "  </thead>\n",
              "  <tbody>\n",
              "    <tr>\n",
              "      <th>Unnamed: 0</th>\n",
              "      <td>3605</td>\n",
              "    </tr>\n",
              "    <tr>\n",
              "      <th>security</th>\n",
              "      <td>NSE200TR Index</td>\n",
              "    </tr>\n",
              "    <tr>\n",
              "      <th>PX_OPEN</th>\n",
              "      <td>7113.24</td>\n",
              "    </tr>\n",
              "    <tr>\n",
              "      <th>PX_HIGH</th>\n",
              "      <td>7113.24</td>\n",
              "    </tr>\n",
              "    <tr>\n",
              "      <th>PX_LOW</th>\n",
              "      <td>7113.24</td>\n",
              "    </tr>\n",
              "    <tr>\n",
              "      <th>PX_LAST</th>\n",
              "      <td>7086.53</td>\n",
              "    </tr>\n",
              "    <tr>\n",
              "      <th>EQY_WEIGHTED_AVG_PX</th>\n",
              "      <td>NaN</td>\n",
              "    </tr>\n",
              "  </tbody>\n",
              "</table>\n",
              "</div><br><label><b>dtype:</b> object</label>"
            ]
          },
          "metadata": {},
          "execution_count": 82
        }
      ]
    },
    {
      "cell_type": "code",
      "source": [],
      "metadata": {
        "id": "yaeVZjSCs4Y4"
      },
      "execution_count": null,
      "outputs": []
    },
    {
      "cell_type": "code",
      "source": [
        "priceData.columns"
      ],
      "metadata": {
        "colab": {
          "base_uri": "https://localhost:8080/"
        },
        "id": "2eGxt_zudLE9",
        "outputId": "33fec32a-1f78-4cb0-ba1a-8df79110ed26"
      },
      "execution_count": null,
      "outputs": [
        {
          "output_type": "execute_result",
          "data": {
            "text/plain": [
              "Index(['security', 'PX_OPEN', 'PX_HIGH', 'PX_LOW', 'PX_LAST',\n",
              "       'EQY_WEIGHTED_AVG_PX', 'PX_VOLUME', 'totalVolume', 'maxStockVolume',\n",
              "       'volume_ratio', 'volume_max_ratio', 'returnsOpen', 'returnsClose',\n",
              "       'returnsHigh', 'returnsLow'],\n",
              "      dtype='object')"
            ]
          },
          "metadata": {},
          "execution_count": 10
        }
      ]
    },
    {
      "cell_type": "code",
      "source": [
        "CURR_UNIVERSE"
      ],
      "metadata": {
        "id": "gT-e87Ff5JgY"
      },
      "execution_count": null,
      "outputs": []
    },
    {
      "cell_type": "markdown",
      "source": [
        "#Model 1"
      ],
      "metadata": {
        "id": "gI-6NNLV8A4L"
      }
    },
    {
      "cell_type": "code",
      "source": [
        "%matplotlib inline\n",
        "import matplotlib.pyplot as plt\n",
        "plt.rcParams['figure.figsize'] = (7,4.5) # Make the default figures a bit bigger\n",
        "import numpy as np\n",
        "import random\n",
        "import pandas as pd\n",
        "from datetime import datetime\n",
        "from datetime import date\n",
        "from sklearn.metrics import accuracy_score, precision_score, recall_score\n",
        "from sklearn.model_selection import train_test_split\n",
        "from tensorflow.keras import layers, losses\n",
        "from tensorflow.keras.models import Model\n",
        "from sklearn.preprocessing import MinMaxScaler\n",
        "import tensorflow as tf"
      ],
      "metadata": {
        "id": "UemkSR8T0GAO"
      },
      "execution_count": null,
      "outputs": []
    },
    {
      "cell_type": "code",
      "source": [
        "'''\n",
        "utoencoder Model: An autoencoder is implemented as a class AnomalyDetector that extends the tf.keras.models.Model class.\n",
        "The autoencoder is composed of two parts: an encoder and a decoder.\n",
        "The encoder reduces the dimensionality of the input data, and the decoder restores it to its original shape.\n",
        "'''\n",
        "\n",
        "# class AnomalyDetectorNN(Model):\n",
        "#     def __init__(self, input_dim=30):\n",
        "#         super(AnomalyDetectorNN, self).__init__()\n",
        "\n",
        "#         # Encoder: Compress input into a smaller representation\n",
        "#         self.encoder = tf.keras.Sequential([\n",
        "#             layers.Dense(128, activation=\"relu\", input_shape=(input_dim,)),  # Input shape added\n",
        "#             layers.Dense(16, activation=\"relu\")\n",
        "#         ])\n",
        "\n",
        "#         # Decoder: Reconstruct input from encoded representation\n",
        "#         self.decoder = tf.keras.Sequential([\n",
        "#             layers.Dense(128, activation=\"relu\"),\n",
        "#             layers.Dense(input_dim, activation=\"sigmoid\")  # Ensures output matches input dimension\n",
        "#         ])\n",
        "\n",
        "#     def call(self, x):\n",
        "#         encoded = self.encoder(x)   # Encode input\n",
        "#         decoded = self.decoder(encoded)  # Decode back to original shape\n",
        "#         return decoded\n",
        "\n",
        "# autoencoder = AnomalyDetectorNN(30)\n",
        "\n",
        "class AnomalyDetectorNN(Model):\n",
        "    def __init__(self, window_size=30, num_features=5):\n",
        "        super(AnomalyDetectorNN, self).__init__()\n",
        "\n",
        "        input_dim = window_size * num_features  # Flattened input size\n",
        "\n",
        "        self.encoder = tf.keras.Sequential([\n",
        "            layers.Flatten(),  # Convert (batch, 30, features) → (batch, 30*num_features)\n",
        "            layers.Dense(128, activation=\"relu\"),\n",
        "            layers.Dense(16, activation=\"relu\")\n",
        "        ])\n",
        "\n",
        "        self.decoder = tf.keras.Sequential([\n",
        "            layers.Dense(128, activation=\"relu\"),\n",
        "            layers.Dense(input_dim, activation=\"sigmoid\"),  # Linear activation\n",
        "            layers.Reshape((window_size, num_features))  # Reshape back to original\n",
        "        ])\n",
        "\n",
        "    def call(self, x):\n",
        "        encoded = self.encoder(x)\n",
        "        decoded = self.decoder(encoded)\n",
        "        return decoded\n"
      ],
      "metadata": {
        "id": "EbZlnNHg8EO-"
      },
      "execution_count": null,
      "outputs": []
    },
    {
      "cell_type": "code",
      "source": [
        "import tensorflow as tf\n",
        "from tensorflow.keras import layers, Model\n",
        "\n",
        "# class LSTMAutoencoder(Model):\n",
        "#     def __init__(self, input_dim=30, latent_dim=16):\n",
        "#         super(LSTMAutoencoder, self).__init__()\n",
        "\n",
        "#         # Encoder: Compress input into a smaller representation\n",
        "#         self.encoder = tf.keras.Sequential([\n",
        "#             layers.LSTM(128, activation=\"relu\", return_sequences=True, input_shape=(input_dim, 1)),\n",
        "#             layers.LSTM(latent_dim, activation=\"relu\", return_sequences=False)  # Bottleneck\n",
        "#         ])\n",
        "\n",
        "#         # Decoder: LSTM reconstructing original input\n",
        "#         self.decoder = tf.keras.Sequential([\n",
        "#             layers.RepeatVector(input_dim),  # Expands bottleneck vector across time steps\n",
        "#             layers.LSTM(128, activation=\"relu\", return_sequences=True),\n",
        "#             layers.TimeDistributed(layers.Dense(1))  # Output shape matches input (30,1)\n",
        "#         ])\n",
        "\n",
        "#     def call(self, x):\n",
        "#         encoded = self.encoder(x)  # Compress input into bottleneck representation\n",
        "#         decoded = self.decoder(encoded)  # Reconstruct sequence from bottleneck\n",
        "#         return decoded\n",
        "\n",
        "# # Example usage\n",
        "# input_dim = 30  # Sequence length (time steps)\n",
        "# latent_dim = 8  # Compressed representation\n",
        "\n",
        "# autoencoder = LSTMAutoencoder(input_dim=input_dim, latent_dim=latent_dim)\n",
        "# #autoencoder.compile(optimizer='adam', loss='mae')\n",
        "\n",
        "import tensorflow as tf\n",
        "from tensorflow.keras import Model, layers\n",
        "\n",
        "# class LSTMAutoencoder(Model):\n",
        "#     def __init__(self, timeSteps=30, numFeatures=5, latent_dim=8):\n",
        "#         super(LSTMAutoencoder, self).__init__()\n",
        "\n",
        "#         # Encoder: Compress input into a latent representation\n",
        "#         self.encoder = tf.keras.Sequential([\n",
        "#             layers.LSTM(128, activation=\"relu\", return_sequences=True, input_shape=(timeSteps, numFeatures)),\n",
        "#             layers.LSTM(latent_dim, activation=\"relu\", return_sequences=False)  # Bottleneck\n",
        "#         ])\n",
        "\n",
        "#         # Decoder: Reconstruct original input shape (timeSteps, numFeatures)\n",
        "#         self.decoder = tf.keras.Sequential([\n",
        "#             layers.RepeatVector(timeSteps),  # Expand bottleneck across time steps\n",
        "#             layers.LSTM(128, activation=\"relu\", return_sequences=True),\n",
        "#             layers.TimeDistributed(layers.Dense(numFeatures))  # Ensure output matches input shape\n",
        "#         ])\n",
        "\n",
        "#     def call(self, x):\n",
        "#         encoded = self.encoder(x)  # Compress input into latent space\n",
        "#         decoded = self.decoder(encoded)  # Reconstruct input from latent space\n",
        "#         return decoded\n",
        "\n",
        "class LSTMAutoencoder(Model):\n",
        "    def __init__(self, timeSteps=30, numFeatures=5, latent_dim=16):\n",
        "        super(LSTMAutoencoder, self).__init__()\n",
        "\n",
        "        # Encoder: Compress input into a latent representation\n",
        "        self.encoder = tf.keras.Sequential([\n",
        "            layers.LSTM(128, activation=\"relu\", return_sequences=True, input_shape=(timeSteps, numFeatures)),\n",
        "            layers.LSTM(latent_dim, activation=\"relu\", return_sequences=False)  # Keep sequences\n",
        "        ])\n",
        "\n",
        "        # Decoder: Reconstruct the original input shape (timeSteps, numFeatures)\n",
        "        self.decoder = tf.keras.Sequential([\n",
        "            layers.RepeatVector(timeSteps),  # Expand latent representation\n",
        "            layers.LSTM(128, activation=\"relu\", return_sequences=True),\n",
        "            layers.LSTM(64, activation=\"relu\", return_sequences=True),  # Extra LSTM layer\n",
        "            layers.TimeDistributed(layers.Dense(numFeatures))  # Ensure output matches input\n",
        "        ])\n",
        "\n",
        "    def call(self, x):\n",
        "        encoded = self.encoder(x)  # Compress input\n",
        "        decoded = self.decoder(encoded)  # Reconstruct input\n",
        "        return decoded\n",
        "\n"
      ],
      "metadata": {
        "id": "Llp5MhHxRtgc"
      },
      "execution_count": 83,
      "outputs": []
    },
    {
      "cell_type": "code",
      "source": [
        "from sklearn.preprocessing import MinMaxScaler\n",
        "def normalize_window_roll(data, window_size, step=1, cols_to_keep=None):\n",
        "    \"\"\"\n",
        "    Normalizes a rolling window of data using MinMaxScaler.\n",
        "\n",
        "    Parameters:\n",
        "    - data: pd.DataFrame, with datetime index and multiple columns.\n",
        "    - window_size: int, size of rolling window.\n",
        "    - step: int, step size for moving window.\n",
        "    - cols_to_keep: list, column names to keep for normalization.\n",
        "\n",
        "    Returns:\n",
        "    - X: np.array of shape (num_samples, window_size, num_features).\n",
        "    - index_map: list of lists, mapping each index to dates.\n",
        "    \"\"\"\n",
        "\n",
        "    X = []\n",
        "    index_map = []\n",
        "\n",
        "    # If cols_to_keep is provided, filter only those columns\n",
        "    if cols_to_keep:\n",
        "        data = data[cols_to_keep]\n",
        "\n",
        "    for i in range(0, len(data) - window_size, step):\n",
        "        x_window = data.iloc[i : i + window_size]  # Extract rolling window\n",
        "        index_map.append(x_window.index.to_list())  # Store index list\n",
        "\n",
        "        # Normalize across all selected columns\n",
        "        scaler = MinMaxScaler(feature_range=(0, 1))\n",
        "        x_window_scaled = scaler.fit_transform(x_window)  # Shape: (window_size, num_features)\n",
        "\n",
        "        X.append(x_window_scaled)\n",
        "\n",
        "    X = np.array(X)  # Shape: (num_samples, window_size, num_features)\n",
        "\n",
        "    return X, index_map\n",
        "\n"
      ],
      "metadata": {
        "id": "CUK_ofP6AFEZ"
      },
      "execution_count": 104,
      "outputs": []
    },
    {
      "cell_type": "code",
      "source": [
        "import numpy as np\n",
        "import pandas as pd\n",
        "\n",
        "def split_data(X, index_map, test_start, test_end, val_start, val_end):\n",
        "    \"\"\"\n",
        "    Splits data into train, validation, and test sets based on given date ranges.\n",
        "\n",
        "    Parameters:\n",
        "    - X: np.array (N_data x seq_length x num_features), the normalized rolling window data.\n",
        "    - index_map: list of lists containing pd.Timestamp (N_data x seq_length), mapping each index in X to a sequence of dates.\n",
        "    - test_start: datetime.date or pd.Timestamp, start date for test set.\n",
        "    - test_end: datetime.date or pd.Timestamp, end date for test set.\n",
        "    - val_start: datetime.date or pd.Timestamp, start date for validation set.\n",
        "    - val_end: datetime.date or pd.Timestamp, end date for validation set.\n",
        "\n",
        "    Returns:\n",
        "    - X_train, X_val, X_test: np.array, split data (same 3D shape structure).\n",
        "    - index_train, index_val, index_test: list of lists of pd.Timestamp.\n",
        "    \"\"\"\n",
        "\n",
        "    # Convert all date inputs to pd.Timestamp for consistency\n",
        "    test_start, test_end = pd.Timestamp(test_start), pd.Timestamp(test_end)\n",
        "    val_start, val_end = pd.Timestamp(val_start), pd.Timestamp(val_end)\n",
        "\n",
        "    # Ensure index_map is not empty\n",
        "    if not index_map:\n",
        "        seq_length = X.shape[1] if X.ndim == 3 else 0\n",
        "        num_features = X.shape[2] if X.ndim == 3 else 0\n",
        "        return (np.empty((0, seq_length, num_features)),  # X_train\n",
        "                np.empty((0, seq_length, num_features)),  # X_val\n",
        "                np.empty((0, seq_length, num_features)),  # X_test\n",
        "                [], [], [])  # Empty index lists\n",
        "\n",
        "    # Extract representative date (first date of each sequence in index_map)\n",
        "    index_representative = np.array([dates[0] for dates in index_map])\n",
        "\n",
        "    # Identify test indices\n",
        "    test_mask = (index_representative >= test_start) & (index_representative <= test_end)\n",
        "    test_indices = np.where(test_mask)[0]\n",
        "    X_test = X[test_indices] if len(test_indices) > 0 else np.empty((0, X.shape[1], X.shape[2]))\n",
        "    index_test = [index_map[i] for i in test_indices] if len(test_indices) > 0 else []\n",
        "\n",
        "    # Identify validation indices\n",
        "    val_mask = (index_representative >= val_start) & (index_representative <= val_end)\n",
        "    val_indices = np.where(val_mask)[0]\n",
        "    X_val = X[val_indices] if len(val_indices) > 0 else np.empty((0, X.shape[1], X.shape[2]))\n",
        "    index_val = [index_map[i] for i in val_indices] if len(val_indices) > 0 else []\n",
        "\n",
        "    # Remaining data for training\n",
        "    train_mask = ~(test_mask | val_mask)\n",
        "    train_indices = np.where(train_mask)[0]\n",
        "    X_train = X[train_indices] if len(train_indices) > 0 else np.empty((0, X.shape[1], X.shape[2]))\n",
        "    index_train = [index_map[i] for i in train_indices] if len(train_indices) > 0 else []\n",
        "\n",
        "    return X_train, X_val, X_test, index_train, index_val, index_test\n"
      ],
      "metadata": {
        "id": "5LWJf3EMIPJj"
      },
      "execution_count": 85,
      "outputs": []
    },
    {
      "cell_type": "code",
      "source": [
        "#Source: https://www.tensorflow.org/tutorials/generative/autoencoder\n",
        "def predict(model, data, threshold):\n",
        "  reconstructions = model(data)\n",
        "  loss = tf.reduce_mean(tf.keras.losses.mae(reconstructions, data), axis=1)\n",
        "  return tf.math.less(loss, threshold)"
      ],
      "metadata": {
        "id": "nC_mp1k8AdAL"
      },
      "execution_count": 86,
      "outputs": []
    },
    {
      "cell_type": "code",
      "source": [
        "print(priceData.columns)"
      ],
      "metadata": {
        "id": "CVbQL06iXczx",
        "colab": {
          "base_uri": "https://localhost:8080/"
        },
        "outputId": "0c4baf8e-71c9-4d67-a8c2-bfa29bc8eae3"
      },
      "execution_count": 100,
      "outputs": [
        {
          "output_type": "stream",
          "name": "stdout",
          "text": [
            "Index(['security', 'PX_OPEN', 'PX_HIGH', 'PX_LOW', 'PX_LAST',\n",
            "       'EQY_WEIGHTED_AVG_PX', 'PX_VOLUME', 'Daily_Return', 'Price_Spread',\n",
            "       'Body_Size', 'Upper_Shadow', 'Lower_Shadow', 'Close_Open_Gap',\n",
            "       'Volume_Change', 'SMA_5', 'SMA_20', 'EMA_12', 'EMA_26', 'MACD',\n",
            "       'MACD_Signal', 'RSI', 'ATR', 'Bollinger_Upper', 'Bollinger_Lower',\n",
            "       'Momentum_5', 'Williams_%R', 'TP', 'MF', 'Positive MF', 'Negative MF',\n",
            "       'MFR', 'MFI', 'totalVolume', 'maxStockVolume', 'volume_ratio',\n",
            "       'volume_max_ratio', 'returnsOpen', 'returnsClose', 'returnsHigh',\n",
            "       'returnsLow'],\n",
            "      dtype='object')\n"
          ]
        }
      ]
    },
    {
      "cell_type": "code",
      "source": [
        "#TICKERS = CURR_UNIVERSE\n",
        "TICKERS = ['HDFC', 'RELIANCE', 'SBIN']\n",
        "PRICE_TYPE = 'PX_LAST'\n",
        "#COLS_TO_KEEP = ['PX_LAST','PX_OPEN', 'PX_HIGH', 'PX_LOW', 'volume_max_ratio' ]\n",
        "#COLS_TO_KEEP = ['PX_LAST','PX_OPEN', 'PX_HIGH', 'PX_LOW', 'volume_ratio' ]\n",
        "#COLS_TO_KEEP = ['returnsClose','returnsOpen', 'returnsHigh', 'returnsLow', 'volume_max_ratio' ]\n",
        "COLS_TO_KEEP = [ 'volume_max_ratio', 'Price_Spread', 'Body_Size', 'Upper_Shadow', 'Lower_Shadow', 'Close_Open_Gap',\n",
        "                'SMA_5', 'SMA_20', 'MACD', 'MACD_Signal', 'RSI', 'ATR', 'Bollinger_Upper', 'Bollinger_Lower', 'MFR', 'MFI' ]\n",
        "# input_dim = 30\n",
        "# latent_dim = 8\n",
        "MODEL_INFO = \"\"\n",
        "returnsAtAnomalies = {}\n",
        "\n",
        "for ticker in TICKERS:\n",
        "  try:\n",
        "    prices = getStockPriceVolumeData(ticker)\n",
        "\n",
        "    X, index_map = normalize_window_roll(prices,30,5,COLS_TO_KEEP)\n",
        "    startTest = date(2019, 1, 1)\n",
        "    endTest = date(2021, 1, 1)\n",
        "\n",
        "    startVal = date(2014, 1, 1)\n",
        "    endVal = date(2018, 1, 1)\n",
        "\n",
        "    X_train, X_val, X_test, index_train, index_val, index_test = split_data(X, index_map, startTest, endTest, startVal, endVal)\n",
        "\n",
        "    early_stopping = tf.keras.callbacks.EarlyStopping(monitor='val_loss',\n",
        "                                                    patience=2,\n",
        "                                                    mode='min')\n",
        "\n",
        "    ########################### CHANGE MDOEL HERE ###########################\n",
        "\n",
        "    #autoencoder = AnomalyDetectorNN(30, 1)\n",
        "    autoencoder = LSTMAutoencoder(30, len(COLS_TO_KEEP), 16)\n",
        "    autoencoder.compile(optimizer='adam', loss='mae')\n",
        "\n",
        "    history = autoencoder.fit(X_train,X_train, epochs=80,\n",
        "                        validation_data=(X_val, X_val),\n",
        "                        batch_size=16,\n",
        "                        callbacks=[early_stopping])\n",
        "\n",
        "    reconstructions = autoencoder.predict(X_train)\n",
        "    train_loss = tf.reduce_mean(tf.keras.losses.mae(reconstructions, X_train), axis=1)\n",
        "\n",
        "    plt.hist(train_loss[None,:], bins=50)\n",
        "    plt.xlabel(\"Train loss\")\n",
        "    plt.ylabel(\"No of examples\")\n",
        "    plt.show()\n",
        "\n",
        "    threshold = np.mean(train_loss) + np.std(train_loss)\n",
        "    #threshold = np.max(train_loss)\n",
        "    print(\"Threshold: \", threshold)\n",
        "\n",
        "    reconstructions = autoencoder.predict(X_test)\n",
        "    test_loss = tf.reduce_mean(tf.keras.losses.mae(reconstructions, X_test), axis=1)\n",
        "\n",
        "    plt.hist(test_loss[None, :], bins=50)\n",
        "    plt.xlabel(\"Test loss\")\n",
        "    plt.ylabel(\"No of examples\")\n",
        "    plt.show()\n",
        "\n",
        "    preds = predict(autoencoder, X_test, threshold)\n",
        "\n",
        "    anomalousIndexIds  = np.where(preds == False)[0]\n",
        "\n",
        "    dotDates = [index_test[i][-1] for i in anomalousIndexIds]\n",
        "    plotPrice(ticker, PRICE_TYPE, date(2015, 1, 1), None, dotDates, lineDates=[startTest, endTest], saveSuffix=autoencoder.__class__.__name__ + MODEL_INFO)\n",
        "\n",
        "    returns = calculate_returns(prices, dotDates)\n",
        "    returnsAtAnomalies[ticker] = returns\n",
        "\n",
        "  except Exception as e:\n",
        "    print(f\"Error processing {ticker}: {e}\")\n",
        "\n",
        "returnsAtAnomaliesDf = pd.concat(\n",
        "    [df.assign(Ticker=ticker) for ticker, df in returnsAtAnomalies.items()],\n",
        "    ignore_index=True\n",
        ")\n",
        "results = evaluate_predictions(returnsAtAnomaliesDf)\n",
        "results.to_csv('results' + autoencoder.__class__.__name__ + MODEL_INFO + '.csv')\n"
      ],
      "metadata": {
        "id": "OshXmKcsAkNW",
        "colab": {
          "base_uri": "https://localhost:8080/",
          "height": 1000
        },
        "outputId": "3a708037-74e8-4793-b384-9530f85ede21"
      },
      "execution_count": 110,
      "outputs": [
        {
          "output_type": "stream",
          "name": "stdout",
          "text": [
            "Epoch 1/80\n"
          ]
        },
        {
          "output_type": "stream",
          "name": "stderr",
          "text": [
            "/usr/local/lib/python3.11/dist-packages/keras/src/layers/rnn/rnn.py:200: UserWarning: Do not pass an `input_shape`/`input_dim` argument to a layer. When using Sequential models, prefer using an `Input(shape)` object as the first layer in the model instead.\n",
            "  super().__init__(**kwargs)\n"
          ]
        },
        {
          "output_type": "stream",
          "name": "stdout",
          "text": [
            "\u001b[1m53/53\u001b[0m \u001b[32m━━━━━━━━━━━━━━━━━━━━\u001b[0m\u001b[37m\u001b[0m \u001b[1m17s\u001b[0m 150ms/step - loss: 0.3134 - val_loss: 0.2100\n",
            "Epoch 2/80\n",
            "\u001b[1m53/53\u001b[0m \u001b[32m━━━━━━━━━━━━━━━━━━━━\u001b[0m\u001b[37m\u001b[0m \u001b[1m6s\u001b[0m 75ms/step - loss: 0.2001 - val_loss: 0.1971\n",
            "Epoch 3/80\n",
            "\u001b[1m53/53\u001b[0m \u001b[32m━━━━━━━━━━━━━━━━━━━━\u001b[0m\u001b[37m\u001b[0m \u001b[1m7s\u001b[0m 106ms/step - loss: 0.1904 - val_loss: 0.1899\n",
            "Epoch 4/80\n",
            "\u001b[1m53/53\u001b[0m \u001b[32m━━━━━━━━━━━━━━━━━━━━\u001b[0m\u001b[37m\u001b[0m \u001b[1m8s\u001b[0m 73ms/step - loss: 0.1863 - val_loss: 0.1850\n",
            "Epoch 5/80\n",
            "\u001b[1m53/53\u001b[0m \u001b[32m━━━━━━━━━━━━━━━━━━━━\u001b[0m\u001b[37m\u001b[0m \u001b[1m7s\u001b[0m 105ms/step - loss: 0.1840 - val_loss: 0.1843\n",
            "Epoch 6/80\n",
            "\u001b[1m53/53\u001b[0m \u001b[32m━━━━━━━━━━━━━━━━━━━━\u001b[0m\u001b[37m\u001b[0m \u001b[1m4s\u001b[0m 75ms/step - loss: 0.1833 - val_loss: 0.1798\n",
            "Epoch 7/80\n",
            "\u001b[1m53/53\u001b[0m \u001b[32m━━━━━━━━━━━━━━━━━━━━\u001b[0m\u001b[37m\u001b[0m \u001b[1m5s\u001b[0m 75ms/step - loss: 0.1762 - val_loss: 0.1782\n",
            "Epoch 8/80\n",
            "\u001b[1m53/53\u001b[0m \u001b[32m━━━━━━━━━━━━━━━━━━━━\u001b[0m\u001b[37m\u001b[0m \u001b[1m6s\u001b[0m 91ms/step - loss: 0.1731 - val_loss: 0.1723\n",
            "Epoch 9/80\n",
            "\u001b[1m53/53\u001b[0m \u001b[32m━━━━━━━━━━━━━━━━━━━━\u001b[0m\u001b[37m\u001b[0m \u001b[1m4s\u001b[0m 76ms/step - loss: 0.1692 - val_loss: 0.1693\n",
            "Epoch 10/80\n",
            "\u001b[1m53/53\u001b[0m \u001b[32m━━━━━━━━━━━━━━━━━━━━\u001b[0m\u001b[37m\u001b[0m \u001b[1m6s\u001b[0m 97ms/step - loss: 0.1661 - val_loss: 0.1677\n",
            "Epoch 11/80\n",
            "\u001b[1m53/53\u001b[0m \u001b[32m━━━━━━━━━━━━━━━━━━━━\u001b[0m\u001b[37m\u001b[0m \u001b[1m9s\u001b[0m 75ms/step - loss: 0.1649 - val_loss: 0.1669\n",
            "Epoch 12/80\n",
            "\u001b[1m53/53\u001b[0m \u001b[32m━━━━━━━━━━━━━━━━━━━━\u001b[0m\u001b[37m\u001b[0m \u001b[1m5s\u001b[0m 102ms/step - loss: 0.1653 - val_loss: 0.1679\n",
            "Epoch 13/80\n",
            "\u001b[1m53/53\u001b[0m \u001b[32m━━━━━━━━━━━━━━━━━━━━\u001b[0m\u001b[37m\u001b[0m \u001b[1m9s\u001b[0m 76ms/step - loss: 0.1633 - val_loss: 0.1664\n",
            "Epoch 14/80\n",
            "\u001b[1m53/53\u001b[0m \u001b[32m━━━━━━━━━━━━━━━━━━━━\u001b[0m\u001b[37m\u001b[0m \u001b[1m5s\u001b[0m 99ms/step - loss: 0.1622 - val_loss: 0.1660\n",
            "Epoch 15/80\n",
            "\u001b[1m53/53\u001b[0m \u001b[32m━━━━━━━━━━━━━━━━━━━━\u001b[0m\u001b[37m\u001b[0m \u001b[1m9s\u001b[0m 74ms/step - loss: 0.1631 - val_loss: 0.1708\n",
            "Epoch 16/80\n",
            "\u001b[1m53/53\u001b[0m \u001b[32m━━━━━━━━━━━━━━━━━━━━\u001b[0m\u001b[37m\u001b[0m \u001b[1m6s\u001b[0m 105ms/step - loss: 0.1631 - val_loss: 0.1658\n",
            "Epoch 17/80\n",
            "\u001b[1m53/53\u001b[0m \u001b[32m━━━━━━━━━━━━━━━━━━━━\u001b[0m\u001b[37m\u001b[0m \u001b[1m9s\u001b[0m 75ms/step - loss: 0.1614 - val_loss: 0.1636\n",
            "Epoch 18/80\n",
            "\u001b[1m53/53\u001b[0m \u001b[32m━━━━━━━━━━━━━━━━━━━━\u001b[0m\u001b[37m\u001b[0m \u001b[1m5s\u001b[0m 100ms/step - loss: 0.1614 - val_loss: 0.1628\n",
            "Epoch 19/80\n",
            "\u001b[1m53/53\u001b[0m \u001b[32m━━━━━━━━━━━━━━━━━━━━\u001b[0m\u001b[37m\u001b[0m \u001b[1m9s\u001b[0m 78ms/step - loss: 0.1609 - val_loss: 0.1621\n",
            "Epoch 20/80\n",
            "\u001b[1m53/53\u001b[0m \u001b[32m━━━━━━━━━━━━━━━━━━━━\u001b[0m\u001b[37m\u001b[0m \u001b[1m6s\u001b[0m 104ms/step - loss: 0.1599 - val_loss: 0.1617\n",
            "Epoch 21/80\n",
            "\u001b[1m53/53\u001b[0m \u001b[32m━━━━━━━━━━━━━━━━━━━━\u001b[0m\u001b[37m\u001b[0m \u001b[1m9s\u001b[0m 78ms/step - loss: 0.1584 - val_loss: 0.1638\n",
            "Epoch 22/80\n",
            "\u001b[1m53/53\u001b[0m \u001b[32m━━━━━━━━━━━━━━━━━━━━\u001b[0m\u001b[37m\u001b[0m \u001b[1m6s\u001b[0m 98ms/step - loss: 0.1584 - val_loss: 0.1620\n",
            "\u001b[1m27/27\u001b[0m \u001b[32m━━━━━━━━━━━━━━━━━━━━\u001b[0m\u001b[37m\u001b[0m \u001b[1m4s\u001b[0m 103ms/step\n"
          ]
        },
        {
          "output_type": "display_data",
          "data": {
            "text/plain": [
              "<Figure size 640x480 with 1 Axes>"
            ],
            "image/png": "[encoded data removed]"
          },
          "metadata": {}
        },
        {
          "output_type": "stream",
          "name": "stdout",
          "text": [
            "Threshold:  0.17398642654685023\n",
            "\u001b[1m4/4\u001b[0m \u001b[32m━━━━━━━━━━━━━━━━━━━━\u001b[0m\u001b[37m\u001b[0m \u001b[1m0s\u001b[0m 35ms/step\n"
          ]
        },
        {
          "output_type": "display_data",
          "data": {
            "text/plain": [
              "<Figure size 640x480 with 1 Axes>"
            ],
            "image/png": "[encoded data removed]"
          },
          "metadata": {}
        },
        {
          "output_type": "stream",
          "name": "stdout",
          "text": [
            "[Timestamp('2019-01-01 00:00:00'), Timestamp('2021-01-01 00:00:00')]\n"
          ]
        },
        {
          "output_type": "display_data",
          "data": {
            "text/plain": [
              "<Figure size 1000x500 with 1 Axes>"
            ],
            "image/png": "[encoded data removed]"
          },
          "metadata": {}
        },
        {
          "output_type": "stream",
          "name": "stdout",
          "text": [
            "Epoch 1/80\n"
          ]
        },
        {
          "output_type": "stream",
          "name": "stderr",
          "text": [
            "/usr/local/lib/python3.11/dist-packages/keras/src/layers/rnn/rnn.py:200: UserWarning: Do not pass an `input_shape`/`input_dim` argument to a layer. When using Sequential models, prefer using an `Input(shape)` object as the first layer in the model instead.\n",
            "  super().__init__(**kwargs)\n"
          ]
        },
        {
          "output_type": "stream",
          "name": "stdout",
          "text": [
            "\u001b[1m53/53\u001b[0m \u001b[32m━━━━━━━━━━━━━━━━━━━━\u001b[0m\u001b[37m\u001b[0m \u001b[1m16s\u001b[0m 135ms/step - loss: 0.3143 - val_loss: 0.2091\n",
            "Epoch 2/80\n",
            "\u001b[1m53/53\u001b[0m \u001b[32m━━━━━━━━━━━━━━━━━━━━\u001b[0m\u001b[37m\u001b[0m \u001b[1m7s\u001b[0m 77ms/step - loss: 0.2106 - val_loss: 0.2021\n",
            "Epoch 3/80\n",
            "\u001b[1m53/53\u001b[0m \u001b[32m━━━━━━━━━━━━━━━━━━━━\u001b[0m\u001b[37m\u001b[0m \u001b[1m6s\u001b[0m 107ms/step - loss: 0.2032 - val_loss: 0.1910\n",
            "Epoch 4/80\n",
            "\u001b[1m53/53\u001b[0m \u001b[32m━━━━━━━━━━━━━━━━━━━━\u001b[0m\u001b[37m\u001b[0m \u001b[1m9s\u001b[0m 78ms/step - loss: 0.1951 - val_loss: 0.1815\n",
            "Epoch 5/80\n",
            "\u001b[1m53/53\u001b[0m \u001b[32m━━━━━━━━━━━━━━━━━━━━\u001b[0m\u001b[37m\u001b[0m \u001b[1m7s\u001b[0m 107ms/step - loss: 0.1894 - val_loss: 0.1810\n",
            "Epoch 6/80\n",
            "\u001b[1m53/53\u001b[0m \u001b[32m━━━━━━━━━━━━━━━━━━━━\u001b[0m\u001b[37m\u001b[0m \u001b[1m9s\u001b[0m 77ms/step - loss: 0.1824 - val_loss: 0.1736\n",
            "Epoch 7/80\n",
            "\u001b[1m53/53\u001b[0m \u001b[32m━━━━━━━━━━━━━━━━━━━━\u001b[0m\u001b[37m\u001b[0m \u001b[1m6s\u001b[0m 100ms/step - loss: 0.1785 - val_loss: 0.1713\n",
            "Epoch 8/80\n",
            "\u001b[1m53/53\u001b[0m \u001b[32m━━━━━━━━━━━━━━━━━━━━\u001b[0m\u001b[37m\u001b[0m \u001b[1m11s\u001b[0m 123ms/step - loss: 0.1773 - val_loss: 0.1675\n",
            "Epoch 9/80\n",
            "\u001b[1m53/53\u001b[0m \u001b[32m━━━━━━━━━━━━━━━━━━━━\u001b[0m\u001b[37m\u001b[0m \u001b[1m8s\u001b[0m 76ms/step - loss: 0.1737 - val_loss: 0.1642\n",
            "Epoch 10/80\n",
            "\u001b[1m53/53\u001b[0m \u001b[32m━━━━━━━━━━━━━━━━━━━━\u001b[0m\u001b[37m\u001b[0m \u001b[1m6s\u001b[0m 98ms/step - loss: 0.1697 - val_loss: 0.1657\n",
            "Epoch 11/80\n",
            "\u001b[1m53/53\u001b[0m \u001b[32m━━━━━━━━━━━━━━━━━━━━\u001b[0m\u001b[37m\u001b[0m \u001b[1m9s\u001b[0m 77ms/step - loss: 0.1698 - val_loss: 0.1641\n",
            "Epoch 12/80\n",
            "\u001b[1m53/53\u001b[0m \u001b[32m━━━━━━━━━━━━━━━━━━━━\u001b[0m\u001b[37m\u001b[0m \u001b[1m7s\u001b[0m 108ms/step - loss: 0.1689 - val_loss: 0.1628\n",
            "Epoch 13/80\n",
            "\u001b[1m53/53\u001b[0m \u001b[32m━━━━━━━━━━━━━━━━━━━━\u001b[0m\u001b[37m\u001b[0m \u001b[1m9s\u001b[0m 77ms/step - loss: 0.1665 - val_loss: 0.1594\n",
            "Epoch 14/80\n",
            "\u001b[1m53/53\u001b[0m \u001b[32m━━━━━━━━━━━━━━━━━━━━\u001b[0m\u001b[37m\u001b[0m \u001b[1m7s\u001b[0m 106ms/step - loss: 0.1660 - val_loss: 0.1604\n",
            "Epoch 15/80\n",
            "\u001b[1m53/53\u001b[0m \u001b[32m━━━━━━━━━━━━━━━━━━━━\u001b[0m\u001b[37m\u001b[0m \u001b[1m4s\u001b[0m 77ms/step - loss: 0.1663 - val_loss: 0.1611\n",
            "\u001b[1m27/27\u001b[0m \u001b[32m━━━━━━━━━━━━━━━━━━━━\u001b[0m\u001b[37m\u001b[0m \u001b[1m3s\u001b[0m 66ms/step\n"
          ]
        },
        {
          "output_type": "display_data",
          "data": {
            "text/plain": [
              "<Figure size 640x480 with 1 Axes>"
            ],
            "image/png": "[encoded data removed]"
          },
          "metadata": {}
        },
        {
          "output_type": "stream",
          "name": "stdout",
          "text": [
            "Threshold:  0.18344966294140905\n",
            "\u001b[1m4/4\u001b[0m \u001b[32m━━━━━━━━━━━━━━━━━━━━\u001b[0m\u001b[37m\u001b[0m \u001b[1m0s\u001b[0m 59ms/step\n"
          ]
        },
        {
          "output_type": "display_data",
          "data": {
            "text/plain": [
              "<Figure size 640x480 with 1 Axes>"
            ],
            "image/png": "[encoded data removed]"
          },
          "metadata": {}
        },
        {
          "output_type": "stream",
          "name": "stdout",
          "text": [
            "[Timestamp('2019-01-01 00:00:00'), Timestamp('2021-01-01 00:00:00')]\n"
          ]
        },
        {
          "output_type": "display_data",
          "data": {
            "text/plain": [
              "<Figure size 1000x500 with 1 Axes>"
            ],
            "image/png": "[encoded data removed]"
          },
          "metadata": {}
        },
        {
          "output_type": "stream",
          "name": "stdout",
          "text": [
            "Epoch 1/80\n"
          ]
        },
        {
          "output_type": "stream",
          "name": "stderr",
          "text": [
            "/usr/local/lib/python3.11/dist-packages/keras/src/layers/rnn/rnn.py:200: UserWarning: Do not pass an `input_shape`/`input_dim` argument to a layer. When using Sequential models, prefer using an `Input(shape)` object as the first layer in the model instead.\n",
            "  super().__init__(**kwargs)\n"
          ]
        },
        {
          "output_type": "stream",
          "name": "stdout",
          "text": [
            "\u001b[1m53/53\u001b[0m \u001b[32m━━━━━━━━━━━━━━━━━━━━\u001b[0m\u001b[37m\u001b[0m \u001b[1m15s\u001b[0m 99ms/step - loss: 0.3058 - val_loss: 0.2086\n",
            "Epoch 2/80\n",
            "\u001b[1m53/53\u001b[0m \u001b[32m━━━━━━━━━━━━━━━━━━━━\u001b[0m\u001b[37m\u001b[0m \u001b[1m5s\u001b[0m 86ms/step - loss: 0.2063 - val_loss: 0.1931\n",
            "Epoch 3/80\n",
            "\u001b[1m53/53\u001b[0m \u001b[32m━━━━━━━━━━━━━━━━━━━━\u001b[0m\u001b[37m\u001b[0m \u001b[1m5s\u001b[0m 92ms/step - loss: 0.1970 - val_loss: 0.1839\n",
            "Epoch 4/80\n",
            "\u001b[1m53/53\u001b[0m \u001b[32m━━━━━━━━━━━━━━━━━━━━\u001b[0m\u001b[37m\u001b[0m \u001b[1m4s\u001b[0m 79ms/step - loss: 0.1873 - val_loss: 0.1751\n",
            "Epoch 5/80\n",
            "\u001b[1m53/53\u001b[0m \u001b[32m━━━━━━━━━━━━━━━━━━━━\u001b[0m\u001b[37m\u001b[0m \u001b[1m6s\u001b[0m 99ms/step - loss: 0.1813 - val_loss: 0.1743\n",
            "Epoch 6/80\n",
            "\u001b[1m53/53\u001b[0m \u001b[32m━━━━━━━━━━━━━━━━━━━━\u001b[0m\u001b[37m\u001b[0m \u001b[1m9s\u001b[0m 78ms/step - loss: 0.1765 - val_loss: 0.1701\n",
            "Epoch 7/80\n",
            "\u001b[1m53/53\u001b[0m \u001b[32m━━━━━━━━━━━━━━━━━━━━\u001b[0m\u001b[37m\u001b[0m \u001b[1m7s\u001b[0m 109ms/step - loss: 0.1738 - val_loss: 0.1690\n",
            "Epoch 8/80\n",
            "\u001b[1m53/53\u001b[0m \u001b[32m━━━━━━━━━━━━━━━━━━━━\u001b[0m\u001b[37m\u001b[0m \u001b[1m9s\u001b[0m 78ms/step - loss: 0.1709 - val_loss: 0.1671\n",
            "Epoch 9/80\n",
            "\u001b[1m53/53\u001b[0m \u001b[32m━━━━━━━━━━━━━━━━━━━━\u001b[0m\u001b[37m\u001b[0m \u001b[1m6s\u001b[0m 106ms/step - loss: 0.1684 - val_loss: 0.1641\n",
            "Epoch 10/80\n",
            "\u001b[1m53/53\u001b[0m \u001b[32m━━━━━━━━━━━━━━━━━━━━\u001b[0m\u001b[37m\u001b[0m \u001b[1m4s\u001b[0m 77ms/step - loss: 0.1677 - val_loss: 0.1629\n",
            "Epoch 11/80\n",
            "\u001b[1m53/53\u001b[0m \u001b[32m━━━━━━━━━━━━━━━━━━━━\u001b[0m\u001b[37m\u001b[0m \u001b[1m4s\u001b[0m 77ms/step - loss: 0.1657 - val_loss: 0.1615\n",
            "Epoch 12/80\n",
            "\u001b[1m53/53\u001b[0m \u001b[32m━━━━━━━━━━━━━━━━━━━━\u001b[0m\u001b[37m\u001b[0m \u001b[1m7s\u001b[0m 107ms/step - loss: 0.1644 - val_loss: 0.1612\n",
            "Epoch 13/80\n",
            "\u001b[1m53/53\u001b[0m \u001b[32m━━━━━━━━━━━━━━━━━━━━\u001b[0m\u001b[37m\u001b[0m \u001b[1m4s\u001b[0m 77ms/step - loss: 0.1633 - val_loss: 0.1643\n",
            "Epoch 14/80\n",
            "\u001b[1m53/53\u001b[0m \u001b[32m━━━━━━━━━━━━━━━━━━━━\u001b[0m\u001b[37m\u001b[0m \u001b[1m5s\u001b[0m 79ms/step - loss: 0.1625 - val_loss: 0.1621\n",
            "\u001b[1m27/27\u001b[0m \u001b[32m━━━━━━━━━━━━━━━━━━━━\u001b[0m\u001b[37m\u001b[0m \u001b[1m4s\u001b[0m 101ms/step\n"
          ]
        },
        {
          "output_type": "display_data",
          "data": {
            "text/plain": [
              "<Figure size 640x480 with 1 Axes>"
            ],
            "image/png": "[encoded data removed]"
          },
          "metadata": {}
        },
        {
          "output_type": "stream",
          "name": "stdout",
          "text": [
            "Threshold:  0.17804258141600482\n",
            "\u001b[1m4/4\u001b[0m \u001b[32m━━━━━━━━━━━━━━━━━━━━\u001b[0m\u001b[37m\u001b[0m \u001b[1m0s\u001b[0m 33ms/step\n"
          ]
        },
        {
          "output_type": "display_data",
          "data": {
            "text/plain": [
              "<Figure size 640x480 with 1 Axes>"
            ],
            "image/png": "[encoded data removed]"
          },
          "metadata": {}
        },
        {
          "output_type": "stream",
          "name": "stdout",
          "text": [
            "[Timestamp('2019-01-01 00:00:00'), Timestamp('2021-01-01 00:00:00')]\n"
          ]
        },
        {
          "output_type": "display_data",
          "data": {
            "text/plain": [
              "<Figure size 1000x500 with 1 Axes>"
            ],
            "image/png": "[encoded data removed]"
          },
          "metadata": {}
        }
      ]
    },
    {
      "cell_type": "code",
      "source": [
        "evaluate_predictions(returnsAtAnomaliesDf)"
      ],
      "metadata": {
        "id": "RLaV3qbYWJ8R"
      },
      "execution_count": null,
      "outputs": []
    },
    {
      "cell_type": "code",
      "source": [
        "results"
      ],
      "metadata": {
        "id": "Vj_LiSvLcTzD",
        "colab": {
          "base_uri": "https://localhost:8080/",
          "height": 143
        },
        "outputId": "9da89009-ed14-4b97-f97c-e86ed4ebe020"
      },
      "execution_count": 111,
      "outputs": [
        {
          "output_type": "execute_result",
          "data": {
            "text/plain": [
              "     Ticker  Total Anomalies  |3M Return| > 10%  |6M Return| > 10%  \\\n",
              "0      HDFC                7                  3                  6   \n",
              "1  RELIANCE                3                  0                  3   \n",
              "2      SBIN               15                 14                 10   \n",
              "\n",
              "   |3M Return| > 20%  |6M Return| > 20%  \n",
              "0                  0                  5  \n",
              "1                  0                  2  \n",
              "2                  7                  9  "
            ],
            "text/html": [
              "\n",
              "  <div id=\"df-050458b0-22bf-42da-bf79-5360f4804b76\" class=\"colab-df-container\">\n",
              "    <div>\n",
              "<style scoped>\n",
              "    .dataframe tbody tr th:only-of-type {\n",
              "        vertical-align: middle;\n",
              "    }\n",
              "\n",
              "    .dataframe tbody tr th {\n",
              "        vertical-align: top;\n",
              "    }\n",
              "\n",
              "    .dataframe thead th {\n",
              "        text-align: right;\n",
              "    }\n",
              "</style>\n",
              "<table border=\"1\" class=\"dataframe\">\n",
              "  <thead>\n",
              "    <tr style=\"text-align: right;\">\n",
              "      <th></th>\n",
              "      <th>Ticker</th>\n",
              "      <th>Total Anomalies</th>\n",
              "      <th>|3M Return| &gt; 10%</th>\n",
              "      <th>|6M Return| &gt; 10%</th>\n",
              "      <th>|3M Return| &gt; 20%</th>\n",
              "      <th>|6M Return| &gt; 20%</th>\n",
              "    </tr>\n",
              "  </thead>\n",
              "  <tbody>\n",
              "    <tr>\n",
              "      <th>0</th>\n",
              "      <td>HDFC</td>\n",
              "      <td>7</td>\n",
              "      <td>3</td>\n",
              "      <td>6</td>\n",
              "      <td>0</td>\n",
              "      <td>5</td>\n",
              "    </tr>\n",
              "    <tr>\n",
              "      <th>1</th>\n",
              "      <td>RELIANCE</td>\n",
              "      <td>3</td>\n",
              "      <td>0</td>\n",
              "      <td>3</td>\n",
              "      <td>0</td>\n",
              "      <td>2</td>\n",
              "    </tr>\n",
              "    <tr>\n",
              "      <th>2</th>\n",
              "      <td>SBIN</td>\n",
              "      <td>15</td>\n",
              "      <td>14</td>\n",
              "      <td>10</td>\n",
              "      <td>7</td>\n",
              "      <td>9</td>\n",
              "    </tr>\n",
              "  </tbody>\n",
              "</table>\n",
              "</div>\n",
              "    <div class=\"colab-df-buttons\">\n",
              "\n",
              "  <div class=\"colab-df-container\">\n",
              "    <button class=\"colab-df-convert\" onclick=\"convertToInteractive('df-050458b0-22bf-42da-bf79-5360f4804b76')\"\n",
              "            title=\"Convert this dataframe to an interactive table.\"\n",
              "            style=\"display:none;\">\n",
              "\n",
              "  <svg xmlns=\"http://www.w3.org/2000/svg\" height=\"24px\" viewBox=\"0 -960 960 960\">\n",
              "    <path d=\"M120-120v-720h720v720H120Zm60-500h600v-160H180v160Zm220 220h160v-160H400v160Zm0 220h160v-160H400v160ZM180-400h160v-160H180v160Zm440 0h160v-160H620v160ZM180-180h160v-160H180v160Zm440 0h160v-160H620v160Z\"/>\n",
              "  </svg>\n",
              "    </button>\n",
              "\n",
              "  <style>\n",
              "    .colab-df-container {\n",
              "      display:flex;\n",
              "      gap: 12px;\n",
              "    }\n",
              "\n",
              "    .colab-df-convert {\n",
              "      background-color: #E8F0FE;\n",
              "      border: none;\n",
              "      border-radius: 50%;\n",
              "      cursor: pointer;\n",
              "      display: none;\n",
              "      fill: #1967D2;\n",
              "      height: 32px;\n",
              "      padding: 0 0 0 0;\n",
              "      width: 32px;\n",
              "    }\n",
              "\n",
              "    .colab-df-convert:hover {\n",
              "      background-color: #E2EBFA;\n",
              "      box-shadow: 0px 1px 2px rgba(60, 64, 67, 0.3), 0px 1px 3px 1px rgba(60, 64, 67, 0.15);\n",
              "      fill: #174EA6;\n",
              "    }\n",
              "\n",
              "    .colab-df-buttons div {\n",
              "      margin-bottom: 4px;\n",
              "    }\n",
              "\n",
              "    [theme=dark] .colab-df-convert {\n",
              "      background-color: #3B4455;\n",
              "      fill: #D2E3FC;\n",
              "    }\n",
              "\n",
              "    [theme=dark] .colab-df-convert:hover {\n",
              "      background-color: #434B5C;\n",
              "      box-shadow: 0px 1px 3px 1px rgba(0, 0, 0, 0.15);\n",
              "      filter: drop-shadow(0px 1px 2px rgba(0, 0, 0, 0.3));\n",
              "      fill: #FFFFFF;\n",
              "    }\n",
              "  </style>\n",
              "\n",
              "    <script>\n",
              "      const buttonEl =\n",
              "        document.querySelector('#df-050458b0-22bf-42da-bf79-5360f4804b76 button.colab-df-convert');\n",
              "      buttonEl.style.display =\n",
              "        google.colab.kernel.accessAllowed ? 'block' : 'none';\n",
              "\n",
              "      async function convertToInteractive(key) {\n",
              "        const element = document.querySelector('#df-050458b0-22bf-42da-bf79-5360f4804b76');\n",
              "        const dataTable =\n",
              "          await google.colab.kernel.invokeFunction('convertToInteractive',\n",
              "                                                    [key], {});\n",
              "        if (!dataTable) return;\n",
              "\n",
              "        const docLinkHtml = 'Like what you see? Visit the ' +\n",
              "          '<a target=\"_blank\" href=https://colab.research.google.com/notebooks/data_table.ipynb>data table notebook</a>'\n",
              "          + ' to learn more about interactive tables.';\n",
              "        element.innerHTML = '';\n",
              "        dataTable['output_type'] = 'display_data';\n",
              "        await google.colab.output.renderOutput(dataTable, element);\n",
              "        const docLink = document.createElement('div');\n",
              "        docLink.innerHTML = docLinkHtml;\n",
              "        element.appendChild(docLink);\n",
              "      }\n",
              "    </script>\n",
              "  </div>\n",
              "\n",
              "\n",
              "<div id=\"df-8f95741e-1e43-4ac0-8333-f84de35e2e4a\">\n",
              "  <button class=\"colab-df-quickchart\" onclick=\"quickchart('df-8f95741e-1e43-4ac0-8333-f84de35e2e4a')\"\n",
              "            title=\"Suggest charts\"\n",
              "            style=\"display:none;\">\n",
              "\n",
              "<svg xmlns=\"http://www.w3.org/2000/svg\" height=\"24px\"viewBox=\"0 0 24 24\"\n",
              "     width=\"24px\">\n",
              "    <g>\n",
              "        <path d=\"M19 3H5c-1.1 0-2 .9-2 2v14c0 1.1.9 2 2 2h14c1.1 0 2-.9 2-2V5c0-1.1-.9-2-2-2zM9 17H7v-7h2v7zm4 0h-2V7h2v10zm4 0h-2v-4h2v4z\"/>\n",
              "    </g>\n",
              "</svg>\n",
              "  </button>\n",
              "\n",
              "<style>\n",
              "  .colab-df-quickchart {\n",
              "      --bg-color: #E8F0FE;\n",
              "      --fill-color: #1967D2;\n",
              "      --hover-bg-color: #E2EBFA;\n",
              "      --hover-fill-color: #174EA6;\n",
              "      --disabled-fill-color: #AAA;\n",
              "      --disabled-bg-color: #DDD;\n",
              "  }\n",
              "\n",
              "  [theme=dark] .colab-df-quickchart {\n",
              "      --bg-color: #3B4455;\n",
              "      --fill-color: #D2E3FC;\n",
              "      --hover-bg-color: #434B5C;\n",
              "      --hover-fill-color: #FFFFFF;\n",
              "      --disabled-bg-color: #3B4455;\n",
              "      --disabled-fill-color: #666;\n",
              "  }\n",
              "\n",
              "  .colab-df-quickchart {\n",
              "    background-color: var(--bg-color);\n",
              "    border: none;\n",
              "    border-radius: 50%;\n",
              "    cursor: pointer;\n",
              "    display: none;\n",
              "    fill: var(--fill-color);\n",
              "    height: 32px;\n",
              "    padding: 0;\n",
              "    width: 32px;\n",
              "  }\n",
              "\n",
              "  .colab-df-quickchart:hover {\n",
              "    background-color: var(--hover-bg-color);\n",
              "    box-shadow: 0 1px 2px rgba(60, 64, 67, 0.3), 0 1px 3px 1px rgba(60, 64, 67, 0.15);\n",
              "    fill: var(--button-hover-fill-color);\n",
              "  }\n",
              "\n",
              "  .colab-df-quickchart-complete:disabled,\n",
              "  .colab-df-quickchart-complete:disabled:hover {\n",
              "    background-color: var(--disabled-bg-color);\n",
              "    fill: var(--disabled-fill-color);\n",
              "    box-shadow: none;\n",
              "  }\n",
              "\n",
              "  .colab-df-spinner {\n",
              "    border: 2px solid var(--fill-color);\n",
              "    border-color: transparent;\n",
              "    border-bottom-color: var(--fill-color);\n",
              "    animation:\n",
              "      spin 1s steps(1) infinite;\n",
              "  }\n",
              "\n",
              "  @keyframes spin {\n",
              "    0% {\n",
              "      border-color: transparent;\n",
              "      border-bottom-color: var(--fill-color);\n",
              "      border-left-color: var(--fill-color);\n",
              "    }\n",
              "    20% {\n",
              "      border-color: transparent;\n",
              "      border-left-color: var(--fill-color);\n",
              "      border-top-color: var(--fill-color);\n",
              "    }\n",
              "    30% {\n",
              "      border-color: transparent;\n",
              "      border-left-color: var(--fill-color);\n",
              "      border-top-color: var(--fill-color);\n",
              "      border-right-color: var(--fill-color);\n",
              "    }\n",
              "    40% {\n",
              "      border-color: transparent;\n",
              "      border-right-color: var(--fill-color);\n",
              "      border-top-color: var(--fill-color);\n",
              "    }\n",
              "    60% {\n",
              "      border-color: transparent;\n",
              "      border-right-color: var(--fill-color);\n",
              "    }\n",
              "    80% {\n",
              "      border-color: transparent;\n",
              "      border-right-color: var(--fill-color);\n",
              "      border-bottom-color: var(--fill-color);\n",
              "    }\n",
              "    90% {\n",
              "      border-color: transparent;\n",
              "      border-bottom-color: var(--fill-color);\n",
              "    }\n",
              "  }\n",
              "</style>\n",
              "\n",
              "  <script>\n",
              "    async function quickchart(key) {\n",
              "      const quickchartButtonEl =\n",
              "        document.querySelector('#' + key + ' button');\n",
              "      quickchartButtonEl.disabled = true;  // To prevent multiple clicks.\n",
              "      quickchartButtonEl.classList.add('colab-df-spinner');\n",
              "      try {\n",
              "        const charts = await google.colab.kernel.invokeFunction(\n",
              "            'suggestCharts', [key], {});\n",
              "      } catch (error) {\n",
              "        console.error('Error during call to suggestCharts:', error);\n",
              "      }\n",
              "      quickchartButtonEl.classList.remove('colab-df-spinner');\n",
              "      quickchartButtonEl.classList.add('colab-df-quickchart-complete');\n",
              "    }\n",
              "    (() => {\n",
              "      let quickchartButtonEl =\n",
              "        document.querySelector('#df-8f95741e-1e43-4ac0-8333-f84de35e2e4a button');\n",
              "      quickchartButtonEl.style.display =\n",
              "        google.colab.kernel.accessAllowed ? 'block' : 'none';\n",
              "    })();\n",
              "  </script>\n",
              "</div>\n",
              "\n",
              "  <div id=\"id_2f1421bd-6319-4623-8f5e-0faf4f067d15\">\n",
              "    <style>\n",
              "      .colab-df-generate {\n",
              "        background-color: #E8F0FE;\n",
              "        border: none;\n",
              "        border-radius: 50%;\n",
              "        cursor: pointer;\n",
              "        display: none;\n",
              "        fill: #1967D2;\n",
              "        height: 32px;\n",
              "        padding: 0 0 0 0;\n",
              "        width: 32px;\n",
              "      }\n",
              "\n",
              "      .colab-df-generate:hover {\n",
              "        background-color: #E2EBFA;\n",
              "        box-shadow: 0px 1px 2px rgba(60, 64, 67, 0.3), 0px 1px 3px 1px rgba(60, 64, 67, 0.15);\n",
              "        fill: #174EA6;\n",
              "      }\n",
              "\n",
              "      [theme=dark] .colab-df-generate {\n",
              "        background-color: #3B4455;\n",
              "        fill: #D2E3FC;\n",
              "      }\n",
              "\n",
              "      [theme=dark] .colab-df-generate:hover {\n",
              "        background-color: #434B5C;\n",
              "        box-shadow: 0px 1px 3px 1px rgba(0, 0, 0, 0.15);\n",
              "        filter: drop-shadow(0px 1px 2px rgba(0, 0, 0, 0.3));\n",
              "        fill: #FFFFFF;\n",
              "      }\n",
              "    </style>\n",
              "    <button class=\"colab-df-generate\" onclick=\"generateWithVariable('results')\"\n",
              "            title=\"Generate code using this dataframe.\"\n",
              "            style=\"display:none;\">\n",
              "\n",
              "  <svg xmlns=\"http://www.w3.org/2000/svg\" height=\"24px\"viewBox=\"0 0 24 24\"\n",
              "       width=\"24px\">\n",
              "    <path d=\"M7,19H8.4L18.45,9,17,7.55,7,17.6ZM5,21V16.75L18.45,3.32a2,2,0,0,1,2.83,0l1.4,1.43a1.91,1.91,0,0,1,.58,1.4,1.91,1.91,0,0,1-.58,1.4L9.25,21ZM18.45,9,17,7.55Zm-12,3A5.31,5.31,0,0,0,4.9,8.1,5.31,5.31,0,0,0,1,6.5,5.31,5.31,0,0,0,4.9,4.9,5.31,5.31,0,0,0,6.5,1,5.31,5.31,0,0,0,8.1,4.9,5.31,5.31,0,0,0,12,6.5,5.46,5.46,0,0,0,6.5,12Z\"/>\n",
              "  </svg>\n",
              "    </button>\n",
              "    <script>\n",
              "      (() => {\n",
              "      const buttonEl =\n",
              "        document.querySelector('#id_2f1421bd-6319-4623-8f5e-0faf4f067d15 button.colab-df-generate');\n",
              "      buttonEl.style.display =\n",
              "        google.colab.kernel.accessAllowed ? 'block' : 'none';\n",
              "\n",
              "      buttonEl.onclick = () => {\n",
              "        google.colab.notebook.generateWithVariable('results');\n",
              "      }\n",
              "      })();\n",
              "    </script>\n",
              "  </div>\n",
              "\n",
              "    </div>\n",
              "  </div>\n"
            ],
            "application/vnd.google.colaboratory.intrinsic+json": {
              "type": "dataframe",
              "variable_name": "results",
              "summary": "{\n  \"name\": \"results\",\n  \"rows\": 3,\n  \"fields\": [\n    {\n      \"column\": \"Ticker\",\n      \"properties\": {\n        \"dtype\": \"string\",\n        \"num_unique_values\": 3,\n        \"samples\": [\n          \"HDFC\",\n          \"RELIANCE\",\n          \"SBIN\"\n        ],\n        \"semantic_type\": \"\",\n        \"description\": \"\"\n      }\n    },\n    {\n      \"column\": \"Total Anomalies\",\n      \"properties\": {\n        \"dtype\": \"number\",\n        \"std\": 6,\n        \"min\": 3,\n        \"max\": 15,\n        \"num_unique_values\": 3,\n        \"samples\": [\n          7,\n          3,\n          15\n        ],\n        \"semantic_type\": \"\",\n        \"description\": \"\"\n      }\n    },\n    {\n      \"column\": \"|3M Return| > 10%\",\n      \"properties\": {\n        \"dtype\": \"number\",\n        \"std\": 7,\n        \"min\": 0,\n        \"max\": 14,\n        \"num_unique_values\": 3,\n        \"samples\": [\n          3,\n          0,\n          14\n        ],\n        \"semantic_type\": \"\",\n        \"description\": \"\"\n      }\n    },\n    {\n      \"column\": \"|6M Return| > 10%\",\n      \"properties\": {\n        \"dtype\": \"number\",\n        \"std\": 3,\n        \"min\": 3,\n        \"max\": 10,\n        \"num_unique_values\": 3,\n        \"samples\": [\n          6,\n          3,\n          10\n        ],\n        \"semantic_type\": \"\",\n        \"description\": \"\"\n      }\n    },\n    {\n      \"column\": \"|3M Return| > 20%\",\n      \"properties\": {\n        \"dtype\": \"number\",\n        \"std\": 4,\n        \"min\": 0,\n        \"max\": 7,\n        \"num_unique_values\": 2,\n        \"samples\": [\n          7,\n          0\n        ],\n        \"semantic_type\": \"\",\n        \"description\": \"\"\n      }\n    },\n    {\n      \"column\": \"|6M Return| > 20%\",\n      \"properties\": {\n        \"dtype\": \"number\",\n        \"std\": 3,\n        \"min\": 2,\n        \"max\": 9,\n        \"num_unique_values\": 3,\n        \"samples\": [\n          5,\n          2\n        ],\n        \"semantic_type\": \"\",\n        \"description\": \"\"\n      }\n    }\n  ]\n}"
            }
          },
          "metadata": {},
          "execution_count": 111
        }
      ]
    },
    {
      "cell_type": "markdown",
      "source": [
        "#Direction of trade"
      ],
      "metadata": {
        "id": "B8CPvZKYIZrH"
      }
    },
    {
      "cell_type": "code",
      "source": [
        "import pandas as pd\n",
        "import numpy as np\n",
        "\n",
        "def signalFromAnomaly(data, anomalyDates):\n",
        "    \"\"\"\n",
        "    Generate trading signals based on anomalies using trend & mean reversion filters.\n",
        "\n",
        "    Parameters:\n",
        "    data (pd.DataFrame): DataFrame with 'Close' prices and date index.\n",
        "    anomalyDates (list): List of dates (as strings) where anomalies were detected.\n",
        "\n",
        "    Returns:\n",
        "    pd.DataFrame: Original DataFrame with a new 'Signal' column.\n",
        "    \"\"\"\n",
        "    df = data.copy()\n",
        "\n",
        "    # Ensure the index is a datetime index\n",
        "    df.index = pd.to_datetime(df.index)\n",
        "\n",
        "    # Compute Moving Averages\n",
        "    df['SMA_5'] = df['PX_LAST'].rolling(window=5).mean()\n",
        "    df['SMA_20'] = df['PX_LAST'].rolling(window=20).mean()\n",
        "\n",
        "    # Compute Bollinger Bands\n",
        "    rolling_mean = df['PX_LAST'].rolling(window=20).mean()\n",
        "    rolling_std = df['PX_LAST'].rolling(window=20).std()\n",
        "    df['BB_Upper'] = rolling_mean + (2 * rolling_std)\n",
        "    df['BB_Lower'] = rolling_mean - (2 * rolling_std)\n",
        "\n",
        "    # Compute RSI manually\n",
        "    delta = df['PX_LAST'].diff()\n",
        "    gain = np.where(delta > 0, delta, 0)\n",
        "    loss = np.where(delta < 0, -delta, 0)\n",
        "\n",
        "    avg_gain = pd.Series(gain).rolling(window=14, min_periods=1).mean()\n",
        "    avg_loss = pd.Series(loss).rolling(window=14, min_periods=1).mean()\n",
        "\n",
        "    rs = avg_gain / (avg_loss + 1e-10)  # Avoid division by zero\n",
        "    df['RSI'] = 100 - (100 / (1 + rs))\n",
        "\n",
        "    # Compute Momentum (5-day return)\n",
        "    df['Momentum'] = df['PX_LAST'].pct_change(periods=5)\n",
        "\n",
        "    # Initialize Signal Column\n",
        "    df['Signal'] = 0\n",
        "\n",
        "    # Generate Signals\n",
        "    for date in anomalyDates:\n",
        "        date = pd.to_datetime(date)\n",
        "        if date in df.index:\n",
        "            sma5 = df.loc[date, 'SMA_5']\n",
        "            sma20 = df.loc[date, 'SMA_20']\n",
        "            rsi = df.loc[date, 'RSI']\n",
        "            close = df.loc[date, 'PX_LAST']\n",
        "            upper_bb = df.loc[date, 'BB_Upper']\n",
        "            lower_bb = df.loc[date, 'BB_Lower']\n",
        "            momentum = df.loc[date, 'Momentum']\n",
        "\n",
        "            # Trend-Following: Buy if SMA5 > SMA20 (Uptrend), Sell if SMA5 < SMA20 (Downtrend)\n",
        "            if sma5 > sma20:\n",
        "                signal = 1  # Buy\n",
        "            elif sma5 < sma20:\n",
        "                signal = -1  # Sell\n",
        "            else:\n",
        "                signal = 0  # No clear trend\n",
        "\n",
        "            # Mean Reversion Filters\n",
        "            if close >= upper_bb or rsi > 70:\n",
        "                signal = -1  # Overbought, Sell\n",
        "            elif close <= lower_bb or rsi < 30:\n",
        "                signal = 1  # Oversold, Buy\n",
        "\n",
        "            # Momentum Confirmation (Only take trade if past returns support it)\n",
        "            if momentum > 0 and signal == 1:\n",
        "                signal = 0  # Avoid buying into strong price rise\n",
        "            elif momentum < 0 and signal == -1:\n",
        "                signal = 0  # Avoid selling into strong decline\n",
        "\n",
        "            df.loc[date, 'Signal'] = signal\n",
        "\n",
        "    return df"
      ],
      "metadata": {
        "id": "PxsWxZs-IVER"
      },
      "execution_count": null,
      "outputs": []
    },
    {
      "cell_type": "markdown",
      "source": [
        "#Quality of Trade"
      ],
      "metadata": {
        "id": "OoOEgD0OIhmu"
      }
    },
    {
      "cell_type": "code",
      "source": [
        "import pandas as pd\n",
        "\n",
        "def calculate_returns(df, anomaly_dates, months=[3, 6]):\n",
        "    \"\"\"\n",
        "    Compute 3-month and 6-month returns from anomaly dates, selecting the next available date if missing.\n",
        "\n",
        "    Parameters:\n",
        "    df (pd.DataFrame): DataFrame with 'PX_LAST' prices and datetime index.\n",
        "    anomaly_dates (list): List of anomaly dates (as strings or datetime).\n",
        "    months (list): List of months for return calculation (default: [3, 6]).\n",
        "\n",
        "    Returns:\n",
        "    pd.DataFrame: Table with anomaly dates, 3M & 6M returns.\n",
        "    \"\"\"\n",
        "    df = df.copy()\n",
        "    df.index = pd.to_datetime(df.index)  # Ensure index is datetime\n",
        "    sorted_dates = df.index.sort_values()  # Ensure index is sorted\n",
        "    results = []\n",
        "\n",
        "    for date in anomaly_dates:\n",
        "        anomaly_date = pd.to_datetime(date)\n",
        "        if anomaly_date not in df.index:\n",
        "            continue  # Skip if anomaly date is missing\n",
        "\n",
        "        price_at_anomaly = df.loc[anomaly_date, \"PX_LAST\"]\n",
        "        row = {\"Anomaly Date\": anomaly_date, \"Price at Anomaly\": price_at_anomaly}\n",
        "\n",
        "        for m in months:\n",
        "            future_date = anomaly_date + pd.DateOffset(months=m)\n",
        "\n",
        "            # Find the next available date if the exact future date is missing\n",
        "            future_idx = sorted_dates.searchsorted(future_date)\n",
        "            if future_idx < len(sorted_dates):  # Ensure index is within bounds\n",
        "                adjusted_future_date = sorted_dates[future_idx]\n",
        "                future_price = df.loc[adjusted_future_date, \"PX_LAST\"]\n",
        "                return_m = (future_price - price_at_anomaly) * 100 / price_at_anomaly\n",
        "                row[f\"{m}M Return\"] = return_m\n",
        "            else:\n",
        "                row[f\"{m}M Return\"] = None  # No future data available\n",
        "\n",
        "        results.append(row)\n",
        "\n",
        "    return pd.DataFrame(results)\n",
        "\n",
        "\n",
        "import pandas as pd\n",
        "import numpy as np\n",
        "\n",
        "def evaluate_predictions(returns_df):\n",
        "    \"\"\"\n",
        "    Compute statistics to evaluate anomaly-based predictions.\n",
        "\n",
        "    Parameters:\n",
        "    returns_df (pd.DataFrame): DataFrame containing 'Ticker', 'Anomaly Date', '3M Return', '6M Return'.\n",
        "\n",
        "    Returns:\n",
        "    pd.DataFrame: Summary table with counts of strong movements.\n",
        "    \"\"\"\n",
        "    stats = []\n",
        "\n",
        "    for ticker, group in returns_df.groupby(\"Ticker\"):\n",
        "        total_anomalies = len(group)\n",
        "\n",
        "        # Count occurrences where absolute return exceeds threshold\n",
        "        count_abs_3m_10 = (group[\"3M Return\"].abs() > 10).sum()\n",
        "        count_abs_6m_10 = (group[\"6M Return\"].abs() > 10).sum()\n",
        "        count_abs_3m_20 = (group[\"3M Return\"].abs() > 20).sum()\n",
        "        count_abs_6m_20 = (group[\"6M Return\"].abs() > 20).sum()\n",
        "\n",
        "        stats.append({\n",
        "            \"Ticker\": ticker,\n",
        "            \"Total Anomalies\": total_anomalies,\n",
        "            \"|3M Return| > 10%\": count_abs_3m_10,\n",
        "            \"|6M Return| > 10%\": count_abs_6m_10,\n",
        "            \"|3M Return| > 20%\": count_abs_3m_20,\n",
        "            \"|6M Return| > 20%\": count_abs_6m_20\n",
        "        })\n",
        "\n",
        "    return pd.DataFrame(stats)\n"
      ],
      "metadata": {
        "id": "xQA18rt1I25W"
      },
      "execution_count": 109,
      "outputs": []
    },
    {
      "cell_type": "markdown",
      "source": [
        "#Volume normalization (DON)"
      ],
      "metadata": {
        "id": "Ovp6dbw_I5BA"
      }
    },
    {
      "cell_type": "code",
      "source": [],
      "metadata": {
        "id": "EMez0i1UIYmn"
      },
      "execution_count": null,
      "outputs": []
    },
    {
      "cell_type": "markdown",
      "source": [
        "#Remove index component (NEED INDEX TIME SERIES)"
      ],
      "metadata": {
        "id": "BVyRmcUcI_TU"
      }
    },
    {
      "cell_type": "code",
      "source": [],
      "metadata": {
        "id": "niGRd6F4IYuA"
      },
      "execution_count": null,
      "outputs": []
    },
    {
      "cell_type": "markdown",
      "source": [
        "#Use all features (DONE)"
      ],
      "metadata": {
        "id": "6pLHcew5JNt0"
      }
    },
    {
      "cell_type": "code",
      "source": [],
      "metadata": {
        "id": "Lbghi9AJIY0O"
      },
      "execution_count": null,
      "outputs": []
    },
    {
      "cell_type": "code",
      "source": [],
      "metadata": {
        "id": "wXAYnS-YIY7e"
      },
      "execution_count": null,
      "outputs": []
    },
    {
      "cell_type": "markdown",
      "source": [
        "# Rough"
      ],
      "metadata": {
        "id": "niJEeJ04JVMr"
      }
    },
    {
      "cell_type": "code",
      "source": [
        "TICKER = 'SBIN'\n",
        "PRICE_TYPE = 'PX_LAST'\n",
        "prices = getStockPriceVolumeData(TICKER, start=date(2010, 1, 1))[PRICE_TYPE]\n",
        "prices.rename('price', inplace=True)\n",
        "prices.dropna(inplace=True) # only 2 nan dates for reliance for eg."
      ],
      "metadata": {
        "id": "9bGlCVmF7vhi"
      },
      "execution_count": null,
      "outputs": []
    },
    {
      "cell_type": "code",
      "source": [
        "# should we smoothen the data ?\n",
        "X, index_map = normalize_window_roll(prices,30)"
      ],
      "metadata": {
        "id": "doFTHgEEHF45"
      },
      "execution_count": null,
      "outputs": []
    },
    {
      "cell_type": "code",
      "source": [
        "print(X.shape)\n",
        "print(prices.shape)\n",
        "print(len(index_map))"
      ],
      "metadata": {
        "id": "bNNufukEHL9f"
      },
      "execution_count": null,
      "outputs": []
    },
    {
      "cell_type": "code",
      "source": [
        "train_size = int(0.7*X.shape[0])\n",
        "test_size = int(0.1*X.shape[0])\n",
        "val_size = int(0.2*X.shape[0])\n",
        "\n",
        "X_train = X[:train_size]\n",
        "X_val = X[train_size+test_size:train_size+val_size+test_size]\n",
        "X_test = X[train_size:train_size+test_size]\n",
        "\n",
        "val_index_offset = train_size + test_size\n",
        "test_index_offset = train_size\n",
        "#X_val = X[train_size+test_size:train_size+test_size+val_size]"
      ],
      "metadata": {
        "id": "t1k9-2JkHHIa"
      },
      "execution_count": null,
      "outputs": []
    },
    {
      "cell_type": "code",
      "source": [
        "'''\n",
        "Training the model: The autoencoder is trained using the stock market data using the fit function.\n",
        "An EarlyStopping callback is added to stop the training if the validation loss does not improve for 2 consecutive epochs.\n",
        "'''\n",
        "early_stopping = tf.keras.callbacks.EarlyStopping(monitor='val_loss',\n",
        "                                                  patience=2,\n",
        "                                                  mode='min')\n",
        "autoencoder.compile(optimizer='adam', loss='mae')\n",
        "\n",
        "history = autoencoder.fit(X_train,X_train, epochs=80,\n",
        "                    validation_data=(X_val, X_val),\n",
        "                    batch_size=16,\n",
        "                    callbacks=[early_stopping])"
      ],
      "metadata": {
        "id": "AsaIrJEHAM0m"
      },
      "execution_count": null,
      "outputs": []
    },
    {
      "cell_type": "code",
      "source": [
        "#Source: https://www.tensorflow.org/tutorials/generative/autoencoder\n",
        "reconstructions = autoencoder.predict(X_train)\n",
        "train_loss = tf.keras.losses.mae(reconstructions, X_train)\n",
        "\n",
        "plt.hist(train_loss[None,:], bins=50)\n",
        "plt.xlabel(\"Train loss\")\n",
        "plt.ylabel(\"No of examples\")\n",
        "plt.show()"
      ],
      "metadata": {
        "id": "4xzB2xBHAVxJ"
      },
      "execution_count": null,
      "outputs": []
    },
    {
      "cell_type": "code",
      "source": [
        "threshold = np.mean(train_loss) + np.std(train_loss)\n",
        "print(\"Threshold: \", threshold)"
      ],
      "metadata": {
        "id": "dOC-U-49AYbl"
      },
      "execution_count": null,
      "outputs": []
    },
    {
      "cell_type": "code",
      "source": [
        "np.mean(train_loss)"
      ],
      "metadata": {
        "id": "36BvYktT2yBj"
      },
      "execution_count": null,
      "outputs": []
    },
    {
      "cell_type": "code",
      "source": [
        "reconstructions = autoencoder.predict(X_test)\n",
        "test_loss = tf.keras.losses.mae(reconstructions, X_test)\n",
        "\n",
        "plt.hist(test_loss[None, :], bins=50)\n",
        "plt.xlabel(\"Test loss\")\n",
        "plt.ylabel(\"No of examples\")\n",
        "plt.show()"
      ],
      "metadata": {
        "id": "LzY5MAKMAanu"
      },
      "execution_count": null,
      "outputs": []
    },
    {
      "cell_type": "code",
      "source": [
        "preds = predict(autoencoder, X_test, threshold)"
      ],
      "metadata": {
        "id": "HWFDAvtcAdqH"
      },
      "execution_count": null,
      "outputs": []
    },
    {
      "cell_type": "code",
      "source": [
        "preds"
      ],
      "metadata": {
        "id": "begoAU-flEMm"
      },
      "execution_count": null,
      "outputs": []
    },
    {
      "cell_type": "code",
      "source": [
        "anomalous_test_data = X_test[np.where(preds==False)]"
      ],
      "metadata": {
        "id": "uvgONzNgAhNL"
      },
      "execution_count": null,
      "outputs": []
    },
    {
      "cell_type": "code",
      "source": [
        "encoded_data = autoencoder.encoder(anomalous_test_data).numpy()\n",
        "decoded_data = autoencoder.decoder(encoded_data).numpy()\n",
        "\n",
        "for p in [1,10,20]:\n",
        "  plt.plot(anomalous_test_data[p], 'b')\n",
        "  plt.plot(np.arange(0,X.shape[1]),decoded_data[p], 'r')\n",
        "  plt.fill_between(np.arange(X.shape[1]), decoded_data[p], anomalous_test_data[p], color='lightcoral')\n",
        "  plt.legend(labels=[\"Input\", \"Reconstruction\", \"Error\"])\n",
        "  plt.show()"
      ],
      "metadata": {
        "id": "Cl_QkdnLAj8C"
      },
      "execution_count": null,
      "outputs": []
    },
    {
      "cell_type": "markdown",
      "source": [
        "#Visualize on original price plot"
      ],
      "metadata": {
        "id": "mOePXDW7ZN6X"
      }
    },
    {
      "cell_type": "code",
      "source": [
        "anomalousIndexIds  = np.where(preds == False)[0]\n",
        "anomalousIndexIds = [ int(test_index_offset + id) for id in anomalousIndexIds ]"
      ],
      "metadata": {
        "id": "QEPL1s93ZSln"
      },
      "execution_count": null,
      "outputs": []
    },
    {
      "cell_type": "code",
      "source": [
        "#dotDates = [date for i in anomalousIndexIds for date in index_map[i]]\n",
        "dotDates = [index_map[i][0] for i in anomalousIndexIds]"
      ],
      "metadata": {
        "id": "W3b6_2rLbRmJ"
      },
      "execution_count": null,
      "outputs": []
    },
    {
      "cell_type": "code",
      "source": [
        "dotDates"
      ],
      "metadata": {
        "id": "iYpmIOMV-ThF"
      },
      "execution_count": null,
      "outputs": []
    },
    {
      "cell_type": "markdown",
      "source": [],
      "metadata": {
        "id": "VuIxb_OaJ8oX"
      }
    },
    {
      "cell_type": "code",
      "source": [
        "plotPrice(TICKER, 'PX_LAST', date(2013, 1, 1), None, dotDates, lineDates=[index_map[val_index_offset][0], index_map[test_index_offset][0]])"
      ],
      "metadata": {
        "id": "uqoyE8sMnD5g"
      },
      "execution_count": null,
      "outputs": []
    },
    {
      "cell_type": "code",
      "source": [
        "ticker"
      ],
      "metadata": {
        "id": "UySQYx3WnM_O"
      },
      "execution_count": null,
      "outputs": []
    },
    {
      "cell_type": "code",
      "source": [
        "prices.index[test_index_offset]"
      ],
      "metadata": {
        "id": "fW0mzjZVncb1"
      },
      "execution_count": null,
      "outputs": []
    },
    {
      "cell_type": "code",
      "source": [
        "val_index_offset"
      ],
      "metadata": {
        "id": "SAwrJbugFoqS"
      },
      "execution_count": null,
      "outputs": []
    },
    {
      "cell_type": "code",
      "source": [
        "test_index_offset"
      ],
      "metadata": {
        "id": "GOoJjnItFrOE"
      },
      "execution_count": null,
      "outputs": []
    },
    {
      "cell_type": "code",
      "source": [],
      "metadata": {
        "id": "_kg1LpBmFtTL"
      },
      "execution_count": null,
      "outputs": []
    }
  ]
}